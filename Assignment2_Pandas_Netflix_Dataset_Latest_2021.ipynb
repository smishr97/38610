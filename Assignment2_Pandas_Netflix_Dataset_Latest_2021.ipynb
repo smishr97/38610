{
  "nbformat": 4,
  "nbformat_minor": 0,
  "metadata": {
    "colab": {
      "provenance": [],
      "collapsed_sections": [],
      "include_colab_link": true
    },
    "kernelspec": {
      "name": "python3",
      "display_name": "Python 3"
    },
    "language_info": {
      "name": "python"
    }
  },
  "cells": [
    {
      "cell_type": "markdown",
      "metadata": {
        "id": "view-in-github",
        "colab_type": "text"
      },
      "source": [
        "<a href=\"https://colab.research.google.com/github/smishr97/38610/blob/main/Assignment2_Pandas_Netflix_Dataset_Latest_2021.ipynb\" target=\"_parent\"><img src=\"https://colab.research.google.com/assets/colab-badge.svg\" alt=\"Open In Colab\"/></a>"
      ]
    },
    {
      "cell_type": "markdown",
      "source": [
        "# Loading data"
      ],
      "metadata": {
        "id": "9CbB781STQuf"
      }
    },
    {
      "cell_type": "code",
      "execution_count": 1,
      "metadata": {
        "colab": {
          "base_uri": "https://localhost:8080/"
        },
        "id": "UV3NCTGmTOnV",
        "outputId": "779f8010-9e6f-4362-bd99-75996437e725"
      },
      "outputs": [
        {
          "output_type": "stream",
          "name": "stdout",
          "text": [
            "Looking in indexes: https://pypi.org/simple, https://us-python.pkg.dev/colab-wheels/public/simple/\n",
            "Requirement already satisfied: pandas in /usr/local/lib/python3.7/dist-packages (1.3.5)\n",
            "Requirement already satisfied: numpy>=1.17.3 in /usr/local/lib/python3.7/dist-packages (from pandas) (1.21.6)\n",
            "Requirement already satisfied: pytz>=2017.3 in /usr/local/lib/python3.7/dist-packages (from pandas) (2022.2.1)\n",
            "Requirement already satisfied: python-dateutil>=2.7.3 in /usr/local/lib/python3.7/dist-packages (from pandas) (2.8.2)\n",
            "Requirement already satisfied: six>=1.5 in /usr/local/lib/python3.7/dist-packages (from python-dateutil>=2.7.3->pandas) (1.15.0)\n"
          ]
        }
      ],
      "source": [
        "!pip install pandas\n",
        "import pandas as pd"
      ]
    },
    {
      "cell_type": "code",
      "source": [
        "from google.colab import drive\n",
        "drive.mount('/content/drive')\n",
        "\n",
        "filename = '/content/drive/My Drive/38610/datasets/Netflix Dataset Latest 2021.xlsx'\n",
        "df = pd.read_excel( filename )\n",
        "\n",
        "df.head()"
      ],
      "metadata": {
        "colab": {
          "base_uri": "https://localhost:8080/",
          "height": 600
        },
        "id": "ylog-sHDTiP5",
        "outputId": "eb62445d-bfb6-488e-8fef-49d43bf2ed41"
      },
      "execution_count": 4,
      "outputs": [
        {
          "output_type": "stream",
          "name": "stdout",
          "text": [
            "Drive already mounted at /content/drive; to attempt to forcibly remount, call drive.mount(\"/content/drive\", force_remount=True).\n"
          ]
        },
        {
          "output_type": "execute_result",
          "data": {
            "text/plain": [
              "                 Title                                   Genre  \\\n",
              "0     Lets Fight Ghost  Crime, Drama, Fantasy, Horror, Romance   \n",
              "1  HOW TO BUILD A GIRL                                  Comedy   \n",
              "2     The Con-Heartist                         Comedy, Romance   \n",
              "3         Gleboka woda                                   Drama   \n",
              "4        Only a Mother                                   Drama   \n",
              "\n",
              "                                                Tags         Languages  \\\n",
              "0  Comedy Programmes,Romantic TV Comedies,Horror ...  Swedish, Spanish   \n",
              "1       Dramas,Comedies,Films Based on Books,British           English   \n",
              "2  Romantic Comedies,Comedies,Romantic Films,Thai...              Thai   \n",
              "3   TV Dramas,Polish TV Shows,Social Issue TV Dramas            Polish   \n",
              "4  Social Issue Dramas,Dramas,Movies Based on Boo...           Swedish   \n",
              "\n",
              "  Series or Movie  Hidden Gem Score  \\\n",
              "0          Series               4.3   \n",
              "1           Movie               7.0   \n",
              "2           Movie               8.6   \n",
              "3          Series               8.7   \n",
              "4           Movie               8.3   \n",
              "\n",
              "                                Country Availability       Runtime  \\\n",
              "0                                           Thailand  < 30 minutes   \n",
              "1                                             Canada      1-2 hour   \n",
              "2                                           Thailand       > 2 hrs   \n",
              "3                                             Poland  < 30 minutes   \n",
              "4  Lithuania,Poland,France,Italy,Spain,Greece,Bel...      1-2 hour   \n",
              "\n",
              "          Director                                             Writer  ...  \\\n",
              "0  Tomas Alfredson                              John Ajvide Lindqvist  ...   \n",
              "1    Coky Giedroyc                                      Caitlin Moran  ...   \n",
              "2    Mez Tharatorn  Pattaranad Bhiboonsawade, Mez Tharatorn, Thods...  ...   \n",
              "3              NaN                                                NaN  ...   \n",
              "4      Alf Sjöberg                                  Ivar Lo-Johansson  ...   \n",
              "\n",
              "  Netflix Release Date                        Production House  \\\n",
              "0           2021-03-04               Canal+, Sandrew Metronome   \n",
              "1           2021-03-04  Film 4, Monumental Pictures, Lionsgate   \n",
              "2           2021-03-03                                     NaN   \n",
              "3           2021-03-03                                     NaN   \n",
              "4           2021-03-03                                     NaN   \n",
              "\n",
              "                             Netflix Link  \\\n",
              "0  https://www.netflix.com/watch/81415947   \n",
              "1  https://www.netflix.com/watch/81041267   \n",
              "2  https://www.netflix.com/watch/81306155   \n",
              "3  https://www.netflix.com/watch/81307527   \n",
              "4  https://www.netflix.com/watch/81382068   \n",
              "\n",
              "                               IMDb Link  \\\n",
              "0   https://www.imdb.com/title/tt1139797   \n",
              "1   https://www.imdb.com/title/tt4193072   \n",
              "2  https://www.imdb.com/title/tt13393728   \n",
              "3   https://www.imdb.com/title/tt2300049   \n",
              "4   https://www.imdb.com/title/tt0041155   \n",
              "\n",
              "                                             Summary  IMDb Votes  \\\n",
              "0  A med student with a supernatural gift tries t...    205926.0   \n",
              "1  When nerdy Johanna moves to London, things get...      2838.0   \n",
              "2  After her ex-boyfriend cons her out of a large...       131.0   \n",
              "3  A group of social welfare workers led by their...        47.0   \n",
              "4  An unhappily married farm worker struggling to...        88.0   \n",
              "\n",
              "                                               Image  \\\n",
              "0  https://occ-0-4708-64.1.nflxso.net/dnm/api/v6/...   \n",
              "1  https://occ-0-1081-999.1.nflxso.net/dnm/api/v6...   \n",
              "2  https://occ-0-2188-64.1.nflxso.net/dnm/api/v6/...   \n",
              "3  https://occ-0-2508-2706.1.nflxso.net/dnm/api/v...   \n",
              "4  https://occ-0-2851-41.1.nflxso.net/dnm/api/v6/...   \n",
              "\n",
              "                                              Poster  \\\n",
              "0  https://m.media-amazon.com/images/M/MV5BOWM4NT...   \n",
              "1  https://m.media-amazon.com/images/M/MV5BZGUyN2...   \n",
              "2  https://m.media-amazon.com/images/M/MV5BODAzOG...   \n",
              "3  https://m.media-amazon.com/images/M/MV5BMTc0Nz...   \n",
              "4  https://m.media-amazon.com/images/M/MV5BMjVmMz...   \n",
              "\n",
              "                                  TMDb Trailer Trailer Site  \n",
              "0  https://www.youtube.com/watch?v=LqB6XJix-dM      YouTube  \n",
              "1  https://www.youtube.com/watch?v=eIbcxPy4okQ      YouTube  \n",
              "2  https://www.youtube.com/watch?v=md3CmFLGK6Y      YouTube  \n",
              "3  https://www.youtube.com/watch?v=5kyF2vy63r0      YouTube  \n",
              "4  https://www.youtube.com/watch?v=H0itWKFwMpQ      YouTube  \n",
              "\n",
              "[5 rows x 29 columns]"
            ],
            "text/html": [
              "\n",
              "  <div id=\"df-8eaa7e23-c4a0-4ece-9dd7-5dafb228e6da\">\n",
              "    <div class=\"colab-df-container\">\n",
              "      <div>\n",
              "<style scoped>\n",
              "    .dataframe tbody tr th:only-of-type {\n",
              "        vertical-align: middle;\n",
              "    }\n",
              "\n",
              "    .dataframe tbody tr th {\n",
              "        vertical-align: top;\n",
              "    }\n",
              "\n",
              "    .dataframe thead th {\n",
              "        text-align: right;\n",
              "    }\n",
              "</style>\n",
              "<table border=\"1\" class=\"dataframe\">\n",
              "  <thead>\n",
              "    <tr style=\"text-align: right;\">\n",
              "      <th></th>\n",
              "      <th>Title</th>\n",
              "      <th>Genre</th>\n",
              "      <th>Tags</th>\n",
              "      <th>Languages</th>\n",
              "      <th>Series or Movie</th>\n",
              "      <th>Hidden Gem Score</th>\n",
              "      <th>Country Availability</th>\n",
              "      <th>Runtime</th>\n",
              "      <th>Director</th>\n",
              "      <th>Writer</th>\n",
              "      <th>...</th>\n",
              "      <th>Netflix Release Date</th>\n",
              "      <th>Production House</th>\n",
              "      <th>Netflix Link</th>\n",
              "      <th>IMDb Link</th>\n",
              "      <th>Summary</th>\n",
              "      <th>IMDb Votes</th>\n",
              "      <th>Image</th>\n",
              "      <th>Poster</th>\n",
              "      <th>TMDb Trailer</th>\n",
              "      <th>Trailer Site</th>\n",
              "    </tr>\n",
              "  </thead>\n",
              "  <tbody>\n",
              "    <tr>\n",
              "      <th>0</th>\n",
              "      <td>Lets Fight Ghost</td>\n",
              "      <td>Crime, Drama, Fantasy, Horror, Romance</td>\n",
              "      <td>Comedy Programmes,Romantic TV Comedies,Horror ...</td>\n",
              "      <td>Swedish, Spanish</td>\n",
              "      <td>Series</td>\n",
              "      <td>4.3</td>\n",
              "      <td>Thailand</td>\n",
              "      <td>&lt; 30 minutes</td>\n",
              "      <td>Tomas Alfredson</td>\n",
              "      <td>John Ajvide Lindqvist</td>\n",
              "      <td>...</td>\n",
              "      <td>2021-03-04</td>\n",
              "      <td>Canal+, Sandrew Metronome</td>\n",
              "      <td>https://www.netflix.com/watch/81415947</td>\n",
              "      <td>https://www.imdb.com/title/tt1139797</td>\n",
              "      <td>A med student with a supernatural gift tries t...</td>\n",
              "      <td>205926.0</td>\n",
              "      <td>https://occ-0-4708-64.1.nflxso.net/dnm/api/v6/...</td>\n",
              "      <td>https://m.media-amazon.com/images/M/MV5BOWM4NT...</td>\n",
              "      <td>https://www.youtube.com/watch?v=LqB6XJix-dM</td>\n",
              "      <td>YouTube</td>\n",
              "    </tr>\n",
              "    <tr>\n",
              "      <th>1</th>\n",
              "      <td>HOW TO BUILD A GIRL</td>\n",
              "      <td>Comedy</td>\n",
              "      <td>Dramas,Comedies,Films Based on Books,British</td>\n",
              "      <td>English</td>\n",
              "      <td>Movie</td>\n",
              "      <td>7.0</td>\n",
              "      <td>Canada</td>\n",
              "      <td>1-2 hour</td>\n",
              "      <td>Coky Giedroyc</td>\n",
              "      <td>Caitlin Moran</td>\n",
              "      <td>...</td>\n",
              "      <td>2021-03-04</td>\n",
              "      <td>Film 4, Monumental Pictures, Lionsgate</td>\n",
              "      <td>https://www.netflix.com/watch/81041267</td>\n",
              "      <td>https://www.imdb.com/title/tt4193072</td>\n",
              "      <td>When nerdy Johanna moves to London, things get...</td>\n",
              "      <td>2838.0</td>\n",
              "      <td>https://occ-0-1081-999.1.nflxso.net/dnm/api/v6...</td>\n",
              "      <td>https://m.media-amazon.com/images/M/MV5BZGUyN2...</td>\n",
              "      <td>https://www.youtube.com/watch?v=eIbcxPy4okQ</td>\n",
              "      <td>YouTube</td>\n",
              "    </tr>\n",
              "    <tr>\n",
              "      <th>2</th>\n",
              "      <td>The Con-Heartist</td>\n",
              "      <td>Comedy, Romance</td>\n",
              "      <td>Romantic Comedies,Comedies,Romantic Films,Thai...</td>\n",
              "      <td>Thai</td>\n",
              "      <td>Movie</td>\n",
              "      <td>8.6</td>\n",
              "      <td>Thailand</td>\n",
              "      <td>&gt; 2 hrs</td>\n",
              "      <td>Mez Tharatorn</td>\n",
              "      <td>Pattaranad Bhiboonsawade, Mez Tharatorn, Thods...</td>\n",
              "      <td>...</td>\n",
              "      <td>2021-03-03</td>\n",
              "      <td>NaN</td>\n",
              "      <td>https://www.netflix.com/watch/81306155</td>\n",
              "      <td>https://www.imdb.com/title/tt13393728</td>\n",
              "      <td>After her ex-boyfriend cons her out of a large...</td>\n",
              "      <td>131.0</td>\n",
              "      <td>https://occ-0-2188-64.1.nflxso.net/dnm/api/v6/...</td>\n",
              "      <td>https://m.media-amazon.com/images/M/MV5BODAzOG...</td>\n",
              "      <td>https://www.youtube.com/watch?v=md3CmFLGK6Y</td>\n",
              "      <td>YouTube</td>\n",
              "    </tr>\n",
              "    <tr>\n",
              "      <th>3</th>\n",
              "      <td>Gleboka woda</td>\n",
              "      <td>Drama</td>\n",
              "      <td>TV Dramas,Polish TV Shows,Social Issue TV Dramas</td>\n",
              "      <td>Polish</td>\n",
              "      <td>Series</td>\n",
              "      <td>8.7</td>\n",
              "      <td>Poland</td>\n",
              "      <td>&lt; 30 minutes</td>\n",
              "      <td>NaN</td>\n",
              "      <td>NaN</td>\n",
              "      <td>...</td>\n",
              "      <td>2021-03-03</td>\n",
              "      <td>NaN</td>\n",
              "      <td>https://www.netflix.com/watch/81307527</td>\n",
              "      <td>https://www.imdb.com/title/tt2300049</td>\n",
              "      <td>A group of social welfare workers led by their...</td>\n",
              "      <td>47.0</td>\n",
              "      <td>https://occ-0-2508-2706.1.nflxso.net/dnm/api/v...</td>\n",
              "      <td>https://m.media-amazon.com/images/M/MV5BMTc0Nz...</td>\n",
              "      <td>https://www.youtube.com/watch?v=5kyF2vy63r0</td>\n",
              "      <td>YouTube</td>\n",
              "    </tr>\n",
              "    <tr>\n",
              "      <th>4</th>\n",
              "      <td>Only a Mother</td>\n",
              "      <td>Drama</td>\n",
              "      <td>Social Issue Dramas,Dramas,Movies Based on Boo...</td>\n",
              "      <td>Swedish</td>\n",
              "      <td>Movie</td>\n",
              "      <td>8.3</td>\n",
              "      <td>Lithuania,Poland,France,Italy,Spain,Greece,Bel...</td>\n",
              "      <td>1-2 hour</td>\n",
              "      <td>Alf Sjöberg</td>\n",
              "      <td>Ivar Lo-Johansson</td>\n",
              "      <td>...</td>\n",
              "      <td>2021-03-03</td>\n",
              "      <td>NaN</td>\n",
              "      <td>https://www.netflix.com/watch/81382068</td>\n",
              "      <td>https://www.imdb.com/title/tt0041155</td>\n",
              "      <td>An unhappily married farm worker struggling to...</td>\n",
              "      <td>88.0</td>\n",
              "      <td>https://occ-0-2851-41.1.nflxso.net/dnm/api/v6/...</td>\n",
              "      <td>https://m.media-amazon.com/images/M/MV5BMjVmMz...</td>\n",
              "      <td>https://www.youtube.com/watch?v=H0itWKFwMpQ</td>\n",
              "      <td>YouTube</td>\n",
              "    </tr>\n",
              "  </tbody>\n",
              "</table>\n",
              "<p>5 rows × 29 columns</p>\n",
              "</div>\n",
              "      <button class=\"colab-df-convert\" onclick=\"convertToInteractive('df-8eaa7e23-c4a0-4ece-9dd7-5dafb228e6da')\"\n",
              "              title=\"Convert this dataframe to an interactive table.\"\n",
              "              style=\"display:none;\">\n",
              "        \n",
              "  <svg xmlns=\"http://www.w3.org/2000/svg\" height=\"24px\"viewBox=\"0 0 24 24\"\n",
              "       width=\"24px\">\n",
              "    <path d=\"M0 0h24v24H0V0z\" fill=\"none\"/>\n",
              "    <path d=\"M18.56 5.44l.94 2.06.94-2.06 2.06-.94-2.06-.94-.94-2.06-.94 2.06-2.06.94zm-11 1L8.5 8.5l.94-2.06 2.06-.94-2.06-.94L8.5 2.5l-.94 2.06-2.06.94zm10 10l.94 2.06.94-2.06 2.06-.94-2.06-.94-.94-2.06-.94 2.06-2.06.94z\"/><path d=\"M17.41 7.96l-1.37-1.37c-.4-.4-.92-.59-1.43-.59-.52 0-1.04.2-1.43.59L10.3 9.45l-7.72 7.72c-.78.78-.78 2.05 0 2.83L4 21.41c.39.39.9.59 1.41.59.51 0 1.02-.2 1.41-.59l7.78-7.78 2.81-2.81c.8-.78.8-2.07 0-2.86zM5.41 20L4 18.59l7.72-7.72 1.47 1.35L5.41 20z\"/>\n",
              "  </svg>\n",
              "      </button>\n",
              "      \n",
              "  <style>\n",
              "    .colab-df-container {\n",
              "      display:flex;\n",
              "      flex-wrap:wrap;\n",
              "      gap: 12px;\n",
              "    }\n",
              "\n",
              "    .colab-df-convert {\n",
              "      background-color: #E8F0FE;\n",
              "      border: none;\n",
              "      border-radius: 50%;\n",
              "      cursor: pointer;\n",
              "      display: none;\n",
              "      fill: #1967D2;\n",
              "      height: 32px;\n",
              "      padding: 0 0 0 0;\n",
              "      width: 32px;\n",
              "    }\n",
              "\n",
              "    .colab-df-convert:hover {\n",
              "      background-color: #E2EBFA;\n",
              "      box-shadow: 0px 1px 2px rgba(60, 64, 67, 0.3), 0px 1px 3px 1px rgba(60, 64, 67, 0.15);\n",
              "      fill: #174EA6;\n",
              "    }\n",
              "\n",
              "    [theme=dark] .colab-df-convert {\n",
              "      background-color: #3B4455;\n",
              "      fill: #D2E3FC;\n",
              "    }\n",
              "\n",
              "    [theme=dark] .colab-df-convert:hover {\n",
              "      background-color: #434B5C;\n",
              "      box-shadow: 0px 1px 3px 1px rgba(0, 0, 0, 0.15);\n",
              "      filter: drop-shadow(0px 1px 2px rgba(0, 0, 0, 0.3));\n",
              "      fill: #FFFFFF;\n",
              "    }\n",
              "  </style>\n",
              "\n",
              "      <script>\n",
              "        const buttonEl =\n",
              "          document.querySelector('#df-8eaa7e23-c4a0-4ece-9dd7-5dafb228e6da button.colab-df-convert');\n",
              "        buttonEl.style.display =\n",
              "          google.colab.kernel.accessAllowed ? 'block' : 'none';\n",
              "\n",
              "        async function convertToInteractive(key) {\n",
              "          const element = document.querySelector('#df-8eaa7e23-c4a0-4ece-9dd7-5dafb228e6da');\n",
              "          const dataTable =\n",
              "            await google.colab.kernel.invokeFunction('convertToInteractive',\n",
              "                                                     [key], {});\n",
              "          if (!dataTable) return;\n",
              "\n",
              "          const docLinkHtml = 'Like what you see? Visit the ' +\n",
              "            '<a target=\"_blank\" href=https://colab.research.google.com/notebooks/data_table.ipynb>data table notebook</a>'\n",
              "            + ' to learn more about interactive tables.';\n",
              "          element.innerHTML = '';\n",
              "          dataTable['output_type'] = 'display_data';\n",
              "          await google.colab.output.renderOutput(dataTable, element);\n",
              "          const docLink = document.createElement('div');\n",
              "          docLink.innerHTML = docLinkHtml;\n",
              "          element.appendChild(docLink);\n",
              "        }\n",
              "      </script>\n",
              "    </div>\n",
              "  </div>\n",
              "  "
            ]
          },
          "metadata": {},
          "execution_count": 4
        },
        {
          "output_type": "stream",
          "name": "stdout",
          "text": [
            "Warning: Total number of columns (29) exceeds max_columns (20) limiting to first (20) columns.\n"
          ]
        }
      ]
    },
    {
      "cell_type": "markdown",
      "source": [
        "## Exercise\n",
        "1. Find all movies produced in the United States.\n",
        "2. Attempt to to download the images for all movies available in Thailand. \n",
        "  a.Create a folder (programmatically) named 'Netflix' on your course directory on Google Drive. \n",
        "  b. Add column `Local Images`.\n",
        "  b. Download the images on column `Images`. \n",
        "  c. If the download was succesful, then add the local path to the column `Local images`. Add `None` otherwise.\n",
        "3. Add a column to the table named `IMDb Availability`. If the link `IMDb Link` is unavailable, then populate the record as False. True otherwise.\n",
        "3. Make a histogram using each unique genre in the `Genre` column."
      ],
      "metadata": {
        "id": "Yp51i_4q2jVY"
      }
    },
    {
      "cell_type": "code",
      "source": [
        "print(df.columns.to_list())"
      ],
      "metadata": {
        "colab": {
          "base_uri": "https://localhost:8080/"
        },
        "id": "271uaxmjIAP2",
        "outputId": "b2bed59f-bea5-4f9d-94a2-314c87bf1887"
      },
      "execution_count": 6,
      "outputs": [
        {
          "output_type": "stream",
          "name": "stdout",
          "text": [
            "['Title', 'Genre', 'Tags', 'Languages', 'Series or Movie', 'Hidden Gem Score', 'Country Availability', 'Runtime', 'Director', 'Writer', 'Actors', 'View Rating', 'IMDb Score', 'Rotten Tomatoes Score', 'Metacritic Score', 'Awards Received', 'Awards Nominated For', 'Boxoffice', 'Release Date', 'Netflix Release Date', 'Production House', 'Netflix Link', 'IMDb Link', 'Summary', 'IMDb Votes', 'Image', 'Poster', 'TMDb Trailer', 'Trailer Site']\n"
          ]
        }
      ]
    },
    {
      "cell_type": "code",
      "source": [
        "df.dropna(subset=['Country Availability'], inplace = True)\n",
        "print(f\"Size of the original dataset {df.shape}\")"
      ],
      "metadata": {
        "colab": {
          "base_uri": "https://localhost:8080/"
        },
        "id": "_mFmS-MALWCB",
        "outputId": "d3da0d12-3c84-4510-8982-80614e656e0d"
      },
      "execution_count": 20,
      "outputs": [
        {
          "output_type": "stream",
          "name": "stdout",
          "text": [
            "Size of the original dataset (9414, 29)\n"
          ]
        }
      ]
    },
    {
      "cell_type": "markdown",
      "source": [
        "## Problem #1"
      ],
      "metadata": {
        "id": "3MYbsdymLvhx"
      }
    },
    {
      "cell_type": "code",
      "source": [
        "df_1 = df[(df['Series or Movie'] == 'Movie') & (df['Country Availability'].str.contains(\"United States\"))]\n",
        "print(f\"Number of the Movies produced in United States is: {df_1.shape[0]}\")"
      ],
      "metadata": {
        "colab": {
          "base_uri": "https://localhost:8080/"
        },
        "id": "zwWwkxcFIEia",
        "outputId": "19b98354-91e5-4f8f-a0fc-d216ab224edd"
      },
      "execution_count": 21,
      "outputs": [
        {
          "output_type": "stream",
          "name": "stdout",
          "text": [
            "Number of the Movies produced in United States is: 2076\n"
          ]
        }
      ]
    },
    {
      "cell_type": "markdown",
      "source": [
        "## Problem #2"
      ],
      "metadata": {
        "id": "kUpyyQhcL0dq"
      }
    },
    {
      "cell_type": "code",
      "source": [
        "df_2 = df.loc[df['Country Availability'].str.contains('Thailand')]\n"
      ],
      "metadata": {
        "id": "GXIq4NkULO70"
      },
      "execution_count": 22,
      "outputs": []
    },
    {
      "cell_type": "code",
      "source": [],
      "metadata": {
        "id": "VPvRrfCQMoE9"
      },
      "execution_count": null,
      "outputs": []
    }
  ]
}