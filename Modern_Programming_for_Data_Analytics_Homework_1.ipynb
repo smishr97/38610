{
  "nbformat": 4,
  "nbformat_minor": 0,
  "metadata": {
    "colab": {
      "provenance": [],
      "collapsed_sections": [],
      "include_colab_link": true
    },
    "kernelspec": {
      "name": "python3",
      "display_name": "Python 3"
    },
    "language_info": {
      "name": "python"
    }
  },
  "cells": [
    {
      "cell_type": "markdown",
      "metadata": {
        "id": "view-in-github",
        "colab_type": "text"
      },
      "source": [
        "<a href=\"https://colab.research.google.com/github/smishr97/38610/blob/main/Modern_Programming_for_Data_Analytics_Homework_1.ipynb\" target=\"_parent\"><img src=\"https://colab.research.google.com/assets/colab-badge.svg\" alt=\"Open In Colab\"/></a>"
      ]
    },
    {
      "cell_type": "markdown",
      "source": [
        "# Modern Programming for Data Analytics\n",
        "Name: SHIVAM MISHRA\n",
        "\n",
        "Andrew ID: shivammi"
      ],
      "metadata": {
        "id": "q32gveKttS1e"
      }
    },
    {
      "cell_type": "markdown",
      "source": [
        "# Exercise - Using `pip` to install packages\n",
        "Install the package [cowsay](https://pypi.org/project/cowsay/) using `pip`.\n",
        "\n",
        "Read the package documentation and write the commands to print the following diagram\n",
        "\n",
        "```\n",
        "  _____________\n",
        "| Ghostbusters! |\n",
        "  =============\n",
        "                     \\\n",
        "                      \\\n",
        "                       \\\n",
        "                        \\\n",
        "                                    __---__\n",
        "                                 _-       /--______\n",
        "                            __--( /     \\ )XXXXXXXXXXX\\v.\n",
        "                          .-XXX(   O   O  )XXXXXXXXXXXXXXX-\n",
        "                         /XXX(       U     )        XXXXXXX\\\n",
        "                       /XXXXX(              )--_  XXXXXXXXXXX\\\n",
        "                      /XXXXX/ (      O     )   XXXXXX   \\XXXXX\\\n",
        "                      XXXXX/   /            XXXXXX   \\__ \\XXXXX\n",
        "                      XXXXXX__/          XXXXXX         \\__---->\n",
        "              ---___  XXX__/          XXXXXX      \\__         /\n",
        "                \\-  --__/   ___/\\  XXXXXX            /  ___--/=\n",
        "                 \\-\\    ___/    XXXXXX              '--- XXXXXX\n",
        "                    \\-\\/XXX\\ XXXXXX                      /XXXXX\n",
        "                      \\XXXXXXXXX   \\                    /XXXXX/\n",
        "                       \\XXXXXX      >                 _/XXXXX/\n",
        "                         \\XXXXX--__/              __-- XXXX/\n",
        "                          -XXXXXXXX---------------  XXXXXX-\n",
        "                             \\XXXXXXXXXXXXXXXXXXXXXXXXXX/\n",
        "                               \"\"VXXXXXXXXXXXXXXXXXXV\"\"\n",
        "```"
      ],
      "metadata": {
        "id": "rZpjQ6Yged6i"
      }
    },
    {
      "cell_type": "code",
      "execution_count": 59,
      "metadata": {
        "id": "TvbZcWBAedAf",
        "outputId": "2929a733-b078-44a5-a7af-a0665819f234",
        "colab": {
          "base_uri": "https://localhost:8080/"
        }
      },
      "outputs": [
        {
          "output_type": "stream",
          "name": "stdout",
          "text": [
            "Looking in indexes: https://pypi.org/simple, https://us-python.pkg.dev/colab-wheels/public/simple/\n",
            "Requirement already satisfied: cowsay in /usr/local/lib/python3.7/dist-packages (5.0)\n",
            "['beavis', 'cheese', 'daemon', 'cow', 'dragon', 'fox', 'ghostbusters', 'kitty', 'meow', 'miki', 'milk', 'pig', 'stegosaurus', 'stimpy', 'trex', 'turkey', 'turtle', 'tux']\n"
          ]
        }
      ],
      "source": [
        "!pip install cowsay\n",
        "import cowsay\n",
        "\n",
        "print(list(cowsay.char_names))"
      ]
    },
    {
      "cell_type": "code",
      "source": [
        "cowsay.ghostbusters('Ghostbusters!')"
      ],
      "metadata": {
        "id": "smlidZBC6tdP",
        "outputId": "94a10d56-7094-419a-fb14-49571fa9b7a1",
        "colab": {
          "base_uri": "https://localhost:8080/"
        }
      },
      "execution_count": 60,
      "outputs": [
        {
          "output_type": "stream",
          "name": "stdout",
          "text": [
            "  _____________\n",
            "| Ghostbusters! |\n",
            "  =============\n",
            "                     \\\n",
            "                      \\\n",
            "                       \\\n",
            "                        \\\n",
            "                                    __---__\n",
            "                                 _-       /--______\n",
            "                            __--( /     \\ )XXXXXXXXXXX\\v.\n",
            "                          .-XXX(   O   O  )XXXXXXXXXXXXXXX-\n",
            "                         /XXX(       U     )        XXXXXXX\\\n",
            "                       /XXXXX(              )--_  XXXXXXXXXXX\\\n",
            "                      /XXXXX/ (      O     )   XXXXXX   \\XXXXX\\\n",
            "                      XXXXX/   /            XXXXXX   \\__ \\XXXXX\n",
            "                      XXXXXX__/          XXXXXX         \\__---->\n",
            "              ---___  XXX__/          XXXXXX      \\__         /\n",
            "                \\-  --__/   ___/\\  XXXXXX            /  ___--/=\n",
            "                 \\-\\    ___/    XXXXXX              '--- XXXXXX\n",
            "                    \\-\\/XXX\\ XXXXXX                      /XXXXX\n",
            "                      \\XXXXXXXXX   \\                    /XXXXX/\n",
            "                       \\XXXXXX      >                 _/XXXXX/\n",
            "                         \\XXXXX--__/              __-- XXXX/\n",
            "                          -XXXXXXXX---------------  XXXXXX-\n",
            "                             \\XXXXXXXXXXXXXXXXXXXXXXXXXX/\n",
            "                               \"\"VXXXXXXXXXXXXXXXXXXV\"\"\n"
          ]
        }
      ]
    },
    {
      "cell_type": "markdown",
      "source": [
        "# Exercise - Faker\n",
        "[Faker](https://pypi.org/project/Faker/) is a Python package that generates fake data for you. Whether you need to bootstrap your database, create good-looking XML documents, fill-in your persistence to stress test it, or anonymize data taken from a production service, Faker is for you.\n",
        "\n",
        "The cell below defines the method `generate_fake_records` that generates fake data and stores the data in a dictionary named `team`."
      ],
      "metadata": {
        "id": "pOdGLNPGl9tK"
      }
    },
    {
      "cell_type": "code",
      "source": [
        "# DO NOT MODIFY THIS CELL\n",
        "\n",
        "!pip install faker\n",
        "import numpy as np\n",
        "from faker import Faker\n",
        "\n",
        "fake = Faker()\n",
        "\n",
        "def generate_fake_records( number_of_records ):\n",
        "  '''\n",
        "  Helper function that generates a fake team member record.\n",
        "\n",
        "  :param number_of_records: Number of records to generate\n",
        "  :type number_of_records: integer\n",
        "  :rtype: list of dictionaries\n",
        "  '''\n",
        "\n",
        "  status_list = ['Full Time', 'Part Time']\n",
        "  team_list = ['Data curator','Data wrangler', 'Data analyst','Project manager']\n",
        "  \n",
        "\n",
        "  data = [{'ID':x+1000,\n",
        "          'Name':fake.name(), \n",
        "          'Hire Date':fake.date_between(start_date='-25y', end_date='today'),\n",
        "          'Status':np.random.choice(status_list, p=[0.50, 0.50]),\n",
        "          'Role':np.random.choice(team_list)} for x in range(number_of_records)]\n",
        "      \n",
        "  return data\n",
        "\n",
        "team = generate_fake_records(number_of_records=25)"
      ],
      "metadata": {
        "id": "J_M23E-ul_y4",
        "outputId": "500cb1b5-c9f7-4c65-83d5-cb0b6557e0ef",
        "colab": {
          "base_uri": "https://localhost:8080/"
        }
      },
      "execution_count": 61,
      "outputs": [
        {
          "output_type": "stream",
          "name": "stdout",
          "text": [
            "Looking in indexes: https://pypi.org/simple, https://us-python.pkg.dev/colab-wheels/public/simple/\n",
            "Requirement already satisfied: faker in /usr/local/lib/python3.7/dist-packages (14.2.0)\n",
            "Requirement already satisfied: python-dateutil>=2.4 in /usr/local/lib/python3.7/dist-packages (from faker) (2.8.2)\n",
            "Requirement already satisfied: typing-extensions>=3.7.4.3 in /usr/local/lib/python3.7/dist-packages (from faker) (4.1.1)\n",
            "Requirement already satisfied: six>=1.5 in /usr/local/lib/python3.7/dist-packages (from python-dateutil>=2.4->faker) (1.15.0)\n"
          ]
        }
      ]
    },
    {
      "cell_type": "markdown",
      "source": [
        "Tabulate pretty-prints tabular data in Python. It is a library and a command-line utility. Install the package [tabulate](https://pypi.org/project/tabulate/) using `pip`.\n",
        "\n",
        "Read the package documentation and write the necessary code to pretty print the dictionary `team` like the example below\n",
        "\n",
        "```\n",
        "|   ID | Name              | Hire Date   | Status    | Role            |\n",
        "|------|-------------------|-------------|-----------|-----------------|\n",
        "| 1000 | Linda Mcintyre    | 2015-05-21  | Part Time | Project manager |\n",
        "| 1001 | John Garner       | 2005-05-28  | Part Time | Data curator    |\n",
        "| 1002 | Sarah Hoover      | 2015-11-28  | Part Time | Data analyst    |\n",
        "| 1003 | Charles Flores    | 2003-11-16  | Part Time | Project manager |\n",
        "| 1004 | Todd Jones        | 2018-09-14  | Full Time | Data curator    |\n",
        "| 1005 | Kara Marks        | 2016-04-27  | Part Time | Data analyst    |\n",
        "| 1006 | Lee Smith         | 2002-02-07  | Part Time | Data analyst    |\n",
        "| 1007 | Douglas Johnson   | 2021-05-10  | Full Time | Data curator    |\n",
        "| 1008 | Jonathan Garcia   | 2015-07-28  | Full Time | Data wrangler   |\n",
        "| 1009 | William Hopkins   | 2009-02-23  | Part Time | Data analyst    |\n",
        "| 1010 | Candace Ellis     | 2005-09-12  | Full Time | Project manager |\n",
        "| 1011 | Edward Andersen   | 2017-01-25  | Full Time | Data wrangler   |\n",
        "| 1012 | Katie Stewart     | 2007-02-18  | Full Time | Data analyst    |\n",
        "| 1013 | Carolyn Mercado   | 2010-02-08  | Part Time | Data curator    |\n",
        "| 1014 | Heather Fowler    | 2014-10-16  | Part Time | Data wrangler   |\n",
        "| 1015 | Louis Miller      | 2015-10-25  | Part Time | Project manager |\n",
        "| 1016 | James Rojas       | 2013-05-19  | Full Time | Data analyst    |\n",
        "| 1017 | Richard Patterson | 2017-04-22  | Full Time | Data curator    |\n",
        "| 1018 | Joshua Ford       | 2013-06-08  | Part Time | Data analyst    |\n",
        "| 1019 | Katherine Warren  | 2005-02-08  | Part Time | Data curator    |\n",
        "| 1020 | Lawrence Reynolds | 2010-12-28  | Part Time | Project manager |\n",
        "| 1021 | Jay Patterson     | 2003-12-29  | Part Time | Data curator    |\n",
        "| 1022 | Mary Zimmerman    | 2019-03-15  | Full Time | Data curator    |\n",
        "| 1023 | Deanna Peterson   | 2016-03-16  | Part Time | Project manager |\n",
        "| 1024 | Shane Ellis       | 2020-03-14  | Full Time | Data analyst    |\n",
        "```"
      ],
      "metadata": {
        "id": "WWQRe-Wjl_63"
      }
    },
    {
      "cell_type": "code",
      "source": [
        "!pip install tabulate\n",
        "from tabulate import tabulate"
      ],
      "metadata": {
        "id": "FAwdJ_TY4tzu",
        "colab": {
          "base_uri": "https://localhost:8080/"
        },
        "outputId": "b24d069b-71e5-4a04-abba-8f1501422332"
      },
      "execution_count": 62,
      "outputs": [
        {
          "output_type": "stream",
          "name": "stdout",
          "text": [
            "Looking in indexes: https://pypi.org/simple, https://us-python.pkg.dev/colab-wheels/public/simple/\n",
            "Requirement already satisfied: tabulate in /usr/local/lib/python3.7/dist-packages (0.8.10)\n"
          ]
        }
      ]
    },
    {
      "cell_type": "code",
      "source": [
        "print(tabulate(team, headers='keys', tablefmt='github'))"
      ],
      "metadata": {
        "colab": {
          "base_uri": "https://localhost:8080/"
        },
        "id": "h2xYrT3p7-GM",
        "outputId": "965d8901-7729-497d-808e-bea094dcdbab"
      },
      "execution_count": 63,
      "outputs": [
        {
          "output_type": "stream",
          "name": "stdout",
          "text": [
            "|   ID | Name               | Hire Date   | Status    | Role            |\n",
            "|------|--------------------|-------------|-----------|-----------------|\n",
            "| 1000 | Lisa Buchanan      | 2004-03-27  | Full Time | Data curator    |\n",
            "| 1001 | Mr. Nicholas Evans | 2008-06-30  | Part Time | Data analyst    |\n",
            "| 1002 | John Jackson       | 2005-04-08  | Part Time | Data curator    |\n",
            "| 1003 | Dennis Green       | 2013-02-26  | Full Time | Data curator    |\n",
            "| 1004 | Jacob Ellis        | 2014-07-12  | Full Time | Data analyst    |\n",
            "| 1005 | Gary Mcdonald      | 2008-04-25  | Part Time | Data analyst    |\n",
            "| 1006 | Willie Russo       | 2010-02-06  | Full Time | Data analyst    |\n",
            "| 1007 | Janice Hampton     | 2018-12-18  | Full Time | Data analyst    |\n",
            "| 1008 | Tina Johnson       | 2016-03-28  | Part Time | Project manager |\n",
            "| 1009 | Michael Morris     | 2005-09-21  | Part Time | Data curator    |\n",
            "| 1010 | Raymond Walker     | 2007-05-21  | Full Time | Data curator    |\n",
            "| 1011 | Donna Shaffer      | 2019-04-23  | Full Time | Data analyst    |\n",
            "| 1012 | Andrew Mora Jr.    | 2017-06-17  | Full Time | Project manager |\n",
            "| 1013 | Jason Lucas        | 2008-05-24  | Part Time | Data analyst    |\n",
            "| 1014 | Alicia Ortega      | 2004-03-16  | Full Time | Data wrangler   |\n",
            "| 1015 | Joy Clayton        | 2017-01-04  | Part Time | Data wrangler   |\n",
            "| 1016 | Collin Reynolds    | 2011-03-10  | Part Time | Data curator    |\n",
            "| 1017 | David Contreras    | 1997-09-07  | Full Time | Project manager |\n",
            "| 1018 | Jennifer Scott     | 1998-11-17  | Full Time | Data wrangler   |\n",
            "| 1019 | Ian Garcia         | 2002-10-19  | Full Time | Data analyst    |\n",
            "| 1020 | Rebecca Jacobs     | 2006-10-23  | Part Time | Data wrangler   |\n",
            "| 1021 | Rebecca Jensen     | 1999-09-20  | Part Time | Data analyst    |\n",
            "| 1022 | Sarah Dalton       | 2002-06-22  | Full Time | Data curator    |\n",
            "| 1023 | Alexis Spencer     | 2017-08-18  | Full Time | Data analyst    |\n",
            "| 1024 | Destiny Coleman    | 2007-12-03  | Full Time | Project manager |\n"
          ]
        }
      ]
    },
    {
      "cell_type": "markdown",
      "source": [
        "# Exercise - Python Standard Library\n",
        "Use the [docstrings](https://realpython.com/documenting-python-code/) and the [assertions](https://realpython.com/python-assert-statement/) in the cell below as a guide to implement the method `get_n_elements`.\n"
      ],
      "metadata": {
        "id": "zluEy8OW4xED"
      }
    },
    {
      "cell_type": "code",
      "source": [
        "# COMPLETE METHOD AND RUN\n",
        "\n",
        "def get_n_elements( list, n=10 ):\n",
        "  '''\n",
        "  Helper method that returns the first n elements in a sorted list\n",
        "\n",
        "  :param list: list of integers\n",
        "  :type list: list\n",
        "  :param n: number of elements to return\n",
        "  :type n: integer\n",
        "  :rtype answer: sorted list of n elements\n",
        "  '''\n",
        "  list.sort()\n",
        "  return list[:n]\n",
        "\n",
        "  raise NotImplementedError()\n",
        "\n",
        "assert get_n_elements([1,2,3,4,5,6,7,8], 3) == [1,2,3]\n",
        "assert get_n_elements([8,7,6,5,4,3,2,1], 3) == [1,2,3]\n",
        "assert get_n_elements([8,7,6,5,4,3,2,1], 5) == [1,2,3,4,5]\n",
        "assert get_n_elements([8,7,6,5,4,3,2,1], 0) == []\n",
        "assert get_n_elements([8,7,6,5,4,3,2,1], -10) == []"
      ],
      "metadata": {
        "id": "M6oRvEfo4t1J"
      },
      "execution_count": 64,
      "outputs": []
    },
    {
      "cell_type": "markdown",
      "source": [
        "## Exercise - Python Standard Library\n",
        "Design and implement a method called `is_palindrome`. \n",
        "\n",
        "* Use only the standard libary.\n",
        "* This method takes an integer and returns True if the number is a [palindrome](https://en.wikipedia.org/wiki/Palindromic_number). False, otherwise.\n",
        "* If the input argument is not an integer, e.g. a string, then the method should return `None`.\n",
        "* Write docstrings for this method.\n",
        "* Write at least 4 assertions to test your method."
      ],
      "metadata": {
        "id": "zBqatJorqEwN"
      }
    },
    {
      "cell_type": "code",
      "source": [
        "def is_palindrome(int_x):\n",
        "  '''\n",
        "  Palindrome function that checks if an interger is palindrome or not\n",
        "\n",
        "  :param int_x: integer input\n",
        "  :type int_x: integer\n",
        "  :rtype answer: True if the integer is a palindrome, False otherwise. If the input argument is not an integer, then the function should return None.\n",
        "  '''\n",
        "  if type(int_x) != int:\n",
        "    return None\n",
        "  else:\n",
        "    return str(int_x) == str(int_x)[::-1]\n",
        "\n",
        "  raise NotImplementedError()\n",
        "\n",
        "assert is_palindrome(142241) == True\n",
        "assert is_palindrome(15781) == False\n",
        "assert is_palindrome('Shivam') == None\n",
        "assert is_palindrome(141.141) == None"
      ],
      "metadata": {
        "id": "2jr7TEcIqEEZ"
      },
      "execution_count": 65,
      "outputs": []
    },
    {
      "cell_type": "markdown",
      "source": [
        "# Exercise - SIR model\n",
        "The SIR model is a simple mathematical model of epidemics. The entities in this model stand for\n",
        "\n",
        "* (S)usceptible: inviduals that are not infected with the disease yet. However, they are not immune to it either, and so they can become infected with the disease in the future.\n",
        "* (I)nfected or infectious: individuals that are infected with the disease and can transmit the disease to susceptible people.\n",
        "* (R)ecovered: individuals who have recovered from the disease and are immune, so they can no longer be infected.\n",
        "\n",
        "In the most basic form, this model model can be represented as\n",
        "\n",
        "<img src=\"https://wikimedia.org/api/rest_v1/media/math/render/svg/c2a8fd2e93bfcf1092a44cfec7ef32c1a80a26f4\" />\n",
        "\n",
        "where \n",
        "\n",
        "* β is the average number of contacts per person per time\n",
        "* γ is the probability a contagious person becoming non-contagious\n",
        "* N is the population size (constant)\n",
        "\n",
        "Solve the system using the [`odeint`](https://docs.scipy.org/doc/scipy/tutorial/integrate.html) solver from scipy.\n",
        "\n",
        "Use these as your parameters for the solver\n",
        "\n",
        "* `beta = 0.2`\n",
        "* `gamma = 0.07`\n",
        "* `N = 100`\n",
        "* `S0 = 99`\n",
        "* `I = 1`\n",
        "* `R = 0`\n",
        "\n",
        "\n",
        "\n"
      ],
      "metadata": {
        "id": "fDxGQ4CC9uNw"
      }
    },
    {
      "cell_type": "code",
      "source": [
        "import numpy as np\n",
        "from scipy.integrate import odeint\n",
        "import matplotlib.pyplot as plt\n",
        "\n",
        "def implement_sir( beta = 0.2, gamma = 0.07, N = 100, S0 = 99, I = 1, R = 0 ):\n",
        "  '''\n",
        "  Implement an SIR model using odeint solver\n",
        "\n",
        "  :param beta: average number of contacts per person per time\n",
        "  :type beta: integer\n",
        "  :param gamma: probability a contagious person becoming non-contagious\n",
        "  :type gamma: integer\n",
        "  :param N: Population size (constant)\n",
        "  :type N: Integer\n",
        "  :param S0: Susceptible population at time zero (start of time)\n",
        "  :type S0: Integer\n",
        "  :param I: individuals that are infected with the disease and can transmit the disease to susceptible people\n",
        "  :type I: Integer\n",
        "  :param R: individuals who have recovered from the disease and are immune, so they can no longer be infected\n",
        "  :type R: Integer\n",
        "\n",
        "  :rtype answer: True if the integer is a palindrome, False otherwise.\n",
        "  '''\n",
        "  # time points\n",
        "  t = np.linspace(0, 200, 200, dtype=int)\n",
        "\n",
        "  # define the differentiation function\n",
        "  def model(initial,t,beta, gamma, N):\n",
        "    S0, I, R = initial\n",
        "    dsdt = -(beta*I*S0)/N\n",
        "    didt = (beta*I*S0)/N - gamma*I\n",
        "    drdt = gamma*I\n",
        "    return dsdt, didt, drdt\n",
        "\n",
        "  initial = S0, I, R\n",
        "  # solve ODE\n",
        "  res = odeint(model, initial, t, args=(beta, gamma, N))\n",
        "\n",
        "  return res"
      ],
      "metadata": {
        "id": "9JGRfnzwV4em"
      },
      "execution_count": 66,
      "outputs": []
    },
    {
      "cell_type": "code",
      "source": [
        "res = implement_sir()\n",
        "S, I, R = res.T"
      ],
      "metadata": {
        "id": "bFw4ZZAPqmOa"
      },
      "execution_count": 67,
      "outputs": []
    },
    {
      "cell_type": "markdown",
      "source": [
        "## Pretty print results\n",
        "Use [tabulate](https://pypi.org/project/tabulate/) to pretty print the first and the last 50 data points returned by the ODE solver. The table should have 4 columns: (t)ime, S, I and R."
      ],
      "metadata": {
        "id": "Xiw2SXsYV4xL"
      }
    },
    {
      "cell_type": "code",
      "source": [
        "# building the dictionary of results generated from the SIR model\n",
        "data = {\"Time\": np.linspace(0, 200, 200, dtype=int), \"S\": S, \"I\": I, \"R\": R}\n",
        "print(tabulate(data, headers=\"keys\", tablefmt='github'))"
      ],
      "metadata": {
        "id": "wbFTN6yjV731",
        "colab": {
          "base_uri": "https://localhost:8080/"
        },
        "outputId": "e7e30a1e-0851-4cd8-d8d2-6a457e9d42f8"
      },
      "execution_count": 74,
      "outputs": [
        {
          "output_type": "stream",
          "name": "stdout",
          "text": [
            "|   Time |        S |           I |          R |\n",
            "|--------|----------|-------------|------------|\n",
            "|      0 | 99       |  1          |  0         |\n",
            "|      1 | 98.789   |  1.13632    |  0.0746722 |\n",
            "|      2 | 98.5499  |  1.29064    |  0.159504  |\n",
            "|      3 | 98.279   |  1.46517    |  0.255833  |\n",
            "|      4 | 97.9725  |  1.66235    |  0.365156  |\n",
            "|      5 | 97.626   |  1.88483    |  0.489152  |\n",
            "|      6 | 97.2348  |  2.13551    |  0.62969   |\n",
            "|      7 | 96.7936  |  2.41752    |  0.788853  |\n",
            "|      8 | 96.2968  |  2.73421    |  0.968951  |\n",
            "|      9 | 95.7383  |  3.08912    |  1.17253   |\n",
            "|     10 | 95.1116  |  3.48598    |  1.40241   |\n",
            "|     11 | 94.4098  |  3.9286     |  1.66164   |\n",
            "|     12 | 93.6256  |  4.42086    |  1.95357   |\n",
            "|     13 | 92.7516  |  4.96655    |  2.28181   |\n",
            "|     14 | 91.7804  |  5.56933    |  2.65022   |\n",
            "|     15 | 90.7046  |  6.2325     |  3.06292   |\n",
            "|     16 | 89.5169  |  6.95888    |  3.52424   |\n",
            "|     17 | 88.2107  |  7.75057    |  4.03869   |\n",
            "|     18 | 86.7804  |  8.60875    |  4.61088   |\n",
            "|     19 | 85.2211  |  9.53341    |  5.24547   |\n",
            "|     20 | 83.5298  | 10.5231     |  5.94707   |\n",
            "|     21 | 81.705   | 11.5748     |  6.72015   |\n",
            "|     22 | 79.7476  | 12.6836     |  7.56888   |\n",
            "|     23 | 77.6606  | 13.8424     |  8.49702   |\n",
            "|     24 | 75.4499  | 15.0423     |  9.50778   |\n",
            "|     25 | 73.1241  | 16.2722     | 10.6036    |\n",
            "|     26 | 70.6946  | 17.5191     | 11.7863    |\n",
            "|     27 | 68.1752  | 18.7685     | 13.0564    |\n",
            "|     28 | 65.5822  | 20.0043     | 14.4136    |\n",
            "|     29 | 62.9338  | 21.2099     | 15.8563    |\n",
            "|     30 | 60.2496  | 22.3686     | 17.3818    |\n",
            "|     31 | 57.5498  | 23.4638     | 18.9864    |\n",
            "|     32 | 54.855   | 24.4801     | 20.6649    |\n",
            "|     33 | 52.1849  | 25.4037     | 22.4114    |\n",
            "|     34 | 49.5582  | 26.2228     | 24.219     |\n",
            "|     35 | 46.992   | 26.928      | 26.08      |\n",
            "|     36 | 44.5012  | 27.5127     | 27.9861    |\n",
            "|     37 | 42.0984  | 27.9727     | 29.9288    |\n",
            "|     38 | 39.7937  | 28.3069     | 31.8994    |\n",
            "|     39 | 37.5948  | 28.5163     | 33.8889    |\n",
            "|     40 | 35.5068  | 28.6044     | 35.8888    |\n",
            "|     41 | 33.5329  | 28.5763     | 37.8908    |\n",
            "|     42 | 31.6739  | 28.4392     | 39.8869    |\n",
            "|     43 | 29.9293  | 28.2008     | 41.8699    |\n",
            "|     44 | 28.2969  | 27.8702     | 43.8329    |\n",
            "|     45 | 26.7735  | 27.4567     | 45.7698    |\n",
            "|     46 | 25.3549  | 26.9699     | 47.6751    |\n",
            "|     47 | 24.0365  | 26.4194     | 49.5441    |\n",
            "|     48 | 22.813   | 25.8144     | 51.3726    |\n",
            "|     49 | 21.6791  | 25.1639     | 53.1571    |\n",
            "|     50 | 20.6291  | 24.4763     | 54.8947    |\n",
            "|     51 | 19.6575  | 23.7594     | 56.5831    |\n",
            "|     52 | 18.7591  | 23.0205     | 58.2205    |\n",
            "|     53 | 17.9285  | 22.266      | 59.8056    |\n",
            "|     54 | 17.1607  | 21.5018     | 61.3375    |\n",
            "|     55 | 16.451   | 20.7333     | 62.8157    |\n",
            "|     56 | 15.7949  | 19.965      | 64.2401    |\n",
            "|     57 | 15.1883  | 19.2008     | 65.6109    |\n",
            "|     58 | 14.6271  | 18.4444     | 66.9284    |\n",
            "|     59 | 14.1079  | 17.6987     | 68.1934    |\n",
            "|     60 | 13.6273  | 16.9661     | 69.4066    |\n",
            "|     61 | 13.1821  | 16.2489     | 70.569     |\n",
            "|     62 | 12.7696  | 15.5486     | 71.6818    |\n",
            "|     63 | 12.3871  | 14.8667     | 72.7462    |\n",
            "|     64 | 12.0322  | 14.2042     | 73.7636    |\n",
            "|     65 | 11.7028  | 13.5619     | 74.7353    |\n",
            "|     66 | 11.3967  | 12.9405     | 75.6627    |\n",
            "|     67 | 11.1123  | 12.3403     | 76.5474    |\n",
            "|     68 | 10.8477  | 11.7614     | 77.3909    |\n",
            "|     69 | 10.6014  | 11.204      | 78.1945    |\n",
            "|     70 | 10.3721  | 10.6679     | 78.9599    |\n",
            "|     71 | 10.1584  | 10.153      | 79.6886    |\n",
            "|     72 |  9.95919 |  9.65896    | 80.3819    |\n",
            "|     73 |  9.7733  |  9.18541    | 81.0413    |\n",
            "|     74 |  9.59978 |  8.73194    | 81.6683    |\n",
            "|     75 |  9.43771 |  8.29807    | 82.2642    |\n",
            "|     76 |  9.28626 |  7.88329    | 82.8305    |\n",
            "|     77 |  9.14464 |  7.48705    | 83.3683    |\n",
            "|     78 |  9.01216 |  7.10878    | 83.8791    |\n",
            "|     79 |  8.88817 |  6.74788    | 84.3639    |\n",
            "|     80 |  8.77207 |  6.40378    | 84.8242    |\n",
            "|     81 |  8.6633  |  6.07585    | 85.2608    |\n",
            "|     82 |  8.56136 |  5.7635     | 85.6751    |\n",
            "|     83 |  8.46578 |  5.46614    | 86.0681    |\n",
            "|     84 |  8.37612 |  5.18315    | 86.4407    |\n",
            "|     85 |  8.29199 |  4.91396    | 86.7941    |\n",
            "|     86 |  8.21301 |  4.65799    | 87.129     |\n",
            "|     87 |  8.13885 |  4.41468    | 87.4465    |\n",
            "|     88 |  8.06919 |  4.18348    | 87.7473    |\n",
            "|     89 |  8.00373 |  3.96385    | 88.0324    |\n",
            "|     90 |  7.9422  |  3.75527    | 88.3025    |\n",
            "|     91 |  7.88435 |  3.55724    | 88.5584    |\n",
            "|     92 |  7.82994 |  3.36928    | 88.8008    |\n",
            "|     93 |  7.77875 |  3.19092    | 89.0303    |\n",
            "|     94 |  7.73059 |  3.02169    | 89.2477    |\n",
            "|     95 |  7.68526 |  2.86117    | 89.4536    |\n",
            "|     96 |  7.64258 |  2.70895    | 89.6485    |\n",
            "|     97 |  7.60239 |  2.5646     | 89.833     |\n",
            "|     98 |  7.56454 |  2.42776    | 90.0077    |\n",
            "|     99 |  7.52888 |  2.29806    | 90.1731    |\n",
            "|    100 |  7.49529 |  2.17513    | 90.3296    |\n",
            "|    101 |  7.46363 |  2.05864    | 90.4777    |\n",
            "|    102 |  7.43379 |  1.94827    | 90.6179    |\n",
            "|    103 |  7.40566 |  1.84372    | 90.7506    |\n",
            "|    104 |  7.37914 |  1.74467    | 90.8762    |\n",
            "|    105 |  7.35414 |  1.65087    | 90.995     |\n",
            "|    106 |  7.33055 |  1.56203    | 91.1074    |\n",
            "|    107 |  7.30831 |  1.4779     | 91.2138    |\n",
            "|    108 |  7.28732 |  1.39825    | 91.3144    |\n",
            "|    109 |  7.26752 |  1.32283    | 91.4096    |\n",
            "|    110 |  7.24884 |  1.25143    | 91.4997    |\n",
            "|    111 |  7.23122 |  1.18385    | 91.5849    |\n",
            "|    112 |  7.21458 |  1.11987    | 91.6655    |\n",
            "|    113 |  7.19888 |  1.05932    | 91.7418    |\n",
            "|    114 |  7.18406 |  1.00201    | 91.8139    |\n",
            "|    115 |  7.17007 |  0.947778   | 91.8822    |\n",
            "|    116 |  7.15686 |  0.896454   | 91.9467    |\n",
            "|    117 |  7.14439 |  0.847888   | 92.0077    |\n",
            "|    118 |  7.13262 |  0.801933   | 92.0654    |\n",
            "|    119 |  7.1215  |  0.758452   | 92.12      |\n",
            "|    120 |  7.111   |  0.717313   | 92.1717    |\n",
            "|    121 |  7.10109 |  0.678391   | 92.2205    |\n",
            "|    122 |  7.09172 |  0.641569   | 92.2667    |\n",
            "|    123 |  7.08288 |  0.606734   | 92.3104    |\n",
            "|    124 |  7.07452 |  0.573781   | 92.3517    |\n",
            "|    125 |  7.06663 |  0.542609   | 92.3908    |\n",
            "|    126 |  7.05918 |  0.513123   | 92.4277    |\n",
            "|    127 |  7.05213 |  0.485232   | 92.4626    |\n",
            "|    128 |  7.04548 |  0.45885    | 92.4957    |\n",
            "|    129 |  7.0392  |  0.433898   | 92.5269    |\n",
            "|    130 |  7.03326 |  0.410297   | 92.5564    |\n",
            "|    131 |  7.02765 |  0.387975   | 92.5844    |\n",
            "|    132 |  7.02235 |  0.366864   | 92.6108    |\n",
            "|    133 |  7.01734 |  0.346898   | 92.6358    |\n",
            "|    134 |  7.0126  |  0.328016   | 92.6594    |\n",
            "|    135 |  7.00813 |  0.310158   | 92.6817    |\n",
            "|    136 |  7.0039  |  0.29327    | 92.7028    |\n",
            "|    137 |  6.99991 |  0.277299   | 92.7228    |\n",
            "|    138 |  6.99614 |  0.262196   | 92.7417    |\n",
            "|    139 |  6.99257 |  0.247914   | 92.7595    |\n",
            "|    140 |  6.9892  |  0.234408   | 92.7764    |\n",
            "|    141 |  6.98601 |  0.221637   | 92.7924    |\n",
            "|    142 |  6.983   |  0.20956    | 92.8074    |\n",
            "|    143 |  6.98016 |  0.19814    | 92.8217    |\n",
            "|    144 |  6.97747 |  0.187341   | 92.8352    |\n",
            "|    145 |  6.97492 |  0.17713    | 92.8479    |\n",
            "|    146 |  6.97252 |  0.167474   | 92.86      |\n",
            "|    147 |  6.97025 |  0.158344   | 92.8714    |\n",
            "|    148 |  6.9681  |  0.149711   | 92.8822    |\n",
            "|    149 |  6.96608 |  0.141549   | 92.8924    |\n",
            "|    150 |  6.96416 |  0.133831   | 92.902     |\n",
            "|    151 |  6.96235 |  0.126533   | 92.9111    |\n",
            "|    152 |  6.96063 |  0.119632   | 92.9197    |\n",
            "|    153 |  6.95901 |  0.113108   | 92.9279    |\n",
            "|    154 |  6.95748 |  0.106939   | 92.9356    |\n",
            "|    155 |  6.95603 |  0.101106   | 92.9429    |\n",
            "|    156 |  6.95467 |  0.0955915  | 92.9497    |\n",
            "|    157 |  6.95337 |  0.0903772  | 92.9562    |\n",
            "|    158 |  6.95215 |  0.0854471  | 92.9624    |\n",
            "|    159 |  6.951   |  0.0807858  | 92.9682    |\n",
            "|    160 |  6.9499  |  0.0763785  | 92.9737    |\n",
            "|    161 |  6.94887 |  0.0722116  | 92.9789    |\n",
            "|    162 |  6.9479  |  0.0682718  | 92.9838    |\n",
            "|    163 |  6.94697 |  0.0645469  | 92.9885    |\n",
            "|    164 |  6.9461  |  0.0610251  | 92.9929    |\n",
            "|    165 |  6.94528 |  0.0576953  | 92.997     |\n",
            "|    166 |  6.9445  |  0.0545472  | 93.001     |\n",
            "|    167 |  6.94376 |  0.0515707  | 93.0047    |\n",
            "|    168 |  6.94307 |  0.0487566  | 93.0082    |\n",
            "|    169 |  6.94241 |  0.046096   | 93.0115    |\n",
            "|    170 |  6.94178 |  0.0435806  | 93.0146    |\n",
            "|    171 |  6.9412  |  0.0412023  | 93.0176    |\n",
            "|    172 |  6.94064 |  0.0389538  | 93.0204    |\n",
            "|    173 |  6.94011 |  0.0368279  | 93.0231    |\n",
            "|    174 |  6.93962 |  0.0348181  | 93.0256    |\n",
            "|    175 |  6.93915 |  0.0329179  | 93.0279    |\n",
            "|    176 |  6.9387  |  0.0311213  | 93.0302    |\n",
            "|    177 |  6.93828 |  0.0294228  | 93.0323    |\n",
            "|    178 |  6.93789 |  0.027817   | 93.0343    |\n",
            "|    179 |  6.93751 |  0.0262988  | 93.0362    |\n",
            "|    180 |  6.93716 |  0.0248634  | 93.038     |\n",
            "|    181 |  6.93682 |  0.0235063  | 93.0397    |\n",
            "|    182 |  6.9365  |  0.0222233  | 93.0413    |\n",
            "|    183 |  6.9362  |  0.0210104  | 93.0428    |\n",
            "|    184 |  6.93592 |  0.0198636  | 93.0442    |\n",
            "|    185 |  6.93565 |  0.0187794  | 93.0456    |\n",
            "|    186 |  6.9354  |  0.0177544  | 93.0468    |\n",
            "|    187 |  6.93516 |  0.0167853  | 93.0481    |\n",
            "|    188 |  6.93493 |  0.0158691  | 93.0492    |\n",
            "|    189 |  6.93472 |  0.0150029  | 93.0503    |\n",
            "|    190 |  6.93452 |  0.0141839  | 93.0513    |\n",
            "|    191 |  6.93433 |  0.0134097  | 93.0523    |\n",
            "|    192 |  6.93414 |  0.0126777  | 93.0532    |\n",
            "|    193 |  6.93397 |  0.0119857  | 93.054     |\n",
            "|    194 |  6.93381 |  0.0113315  | 93.0549    |\n",
            "|    195 |  6.93366 |  0.0107129  | 93.0556    |\n",
            "|    196 |  6.93351 |  0.0101281  | 93.0564    |\n",
            "|    197 |  6.93338 |  0.00957528 | 93.057     |\n",
            "|    198 |  6.93325 |  0.0090526  | 93.0577    |\n",
            "|    200 |  6.93301 |  0.00809126 | 93.0589    |\n"
          ]
        }
      ]
    },
    {
      "cell_type": "markdown",
      "source": [
        "## Save variables to disk\n",
        "Use [pickle](https://docs.python.org/3/library/pickle.html) to serialize the variables `S`, `I`, `R` and `t`. Save the pickle file to the course folder in your Google Drive in a file named `sir.pkl`. \n",
        "\n",
        "Hint: for example, store the variables in a dictionary and then dump the dictionary to a pickle file."
      ],
      "metadata": {
        "id": "kshoCNsWV8Zz"
      }
    },
    {
      "cell_type": "code",
      "source": [
        "import pickle\n",
        "f_name = 'SIR_model_results.pkl'\n",
        "out = open(f_name, 'wb')\n",
        "pickle.dump(data, out)"
      ],
      "metadata": {
        "id": "Fb7_lnNE55UY"
      },
      "execution_count": 69,
      "outputs": []
    },
    {
      "cell_type": "markdown",
      "source": [
        "# Exercise - Matrix multiplication using `numpy`\n",
        "Design an implement a method called `can_be_multiplied`. \n",
        "\n",
        "* Use only the standard libary and `numpy`.\n",
        "* This method takes two Numpy arrays and returns True if these two matrices can be multiplied. False, otherwise.\n",
        "* Work on the assumption that if the input arguments are `a` and `b` (in that order), then the operation `a*b` will be checked by this method and not `b*a`.\n",
        "* If the input argument is not a Numpy array, then the method should return `None`.\n",
        "* Write docstrings for this method.\n",
        "* Write at least 4 assertions to test your method."
      ],
      "metadata": {
        "id": "y4Q5bs-4ujiw"
      }
    },
    {
      "cell_type": "code",
      "source": [
        "import numpy as np\n",
        "import random\n",
        "\n",
        "def can_be_multiplied ( a, b ):\n",
        "  '''\n",
        "  Method to check if matrix multiplication is possible on the two input numply arrays\n",
        "\n",
        "  :param a, b: input array\n",
        "  :type a, b: numpy array\n",
        "  :rtype answer: True if the matrix multiplicaiton is possible, False otherwise. None if the input arguments is not a Numpy array.\n",
        "  '''\n",
        "\n",
        "  if (type(a).__module__ == np.__name__ and type(b).__module__ == np.__name__):\n",
        "    n,m = a.shape\n",
        "    x,y = b.shape\n",
        "    if m == x:\n",
        "      return True\n",
        "    else:\n",
        "      return False\n",
        "  else:\n",
        "    return None\n",
        "\n",
        "  raise NotImplementedError()\n",
        "\n",
        "assert can_be_multiplied(np.random.rand(4,3), np.random.rand(3,4)) == True\n",
        "assert can_be_multiplied(np.random.rand(4,3), np.random.rand(4,3)) == False\n",
        "assert can_be_multiplied(np.random.rand(3,3), np.random.rand(3,3)) == True\n",
        "assert can_be_multiplied(np.random.rand(3,3), [-1,30,10,5]) == None"
      ],
      "metadata": {
        "id": "aGKEp07vujpy"
      },
      "execution_count": 70,
      "outputs": []
    }
  ]
}