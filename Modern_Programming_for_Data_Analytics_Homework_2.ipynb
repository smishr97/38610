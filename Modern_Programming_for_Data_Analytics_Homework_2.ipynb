{
  "nbformat": 4,
  "nbformat_minor": 0,
  "metadata": {
    "colab": {
      "provenance": [],
      "collapsed_sections": [],
      "include_colab_link": true
    },
    "kernelspec": {
      "name": "python3",
      "display_name": "Python 3"
    },
    "language_info": {
      "name": "python"
    }
  },
  "cells": [
    {
      "cell_type": "markdown",
      "metadata": {
        "id": "view-in-github",
        "colab_type": "text"
      },
      "source": [
        "<a href=\"https://colab.research.google.com/github/smishr97/38610/blob/main/Modern_Programming_for_Data_Analytics_Homework_2.ipynb\" target=\"_parent\"><img src=\"https://colab.research.google.com/assets/colab-badge.svg\" alt=\"Open In Colab\"/></a>"
      ]
    },
    {
      "cell_type": "markdown",
      "source": [
        "# Modern Programming for Data Analytics\n",
        "Name: Shivam Mishra\n",
        "\n",
        "Andrew ID: shivammi"
      ],
      "metadata": {
        "id": "q32gveKttS1e"
      }
    },
    {
      "cell_type": "markdown",
      "source": [
        "# Exercise - GeoIP\n",
        "a. Install the package [ip2geotools](https://pypi.org/project/ip2geotools/) and [Faker](https://pypi.org/project/Faker/) using `pip`."
      ],
      "metadata": {
        "id": "rZpjQ6Yged6i"
      }
    },
    {
      "cell_type": "code",
      "execution_count": 1,
      "metadata": {
        "id": "TvbZcWBAedAf",
        "colab": {
          "base_uri": "https://localhost:8080/"
        },
        "outputId": "784fd87b-4afc-4ee5-c901-f68a7be1c892"
      },
      "outputs": [
        {
          "output_type": "stream",
          "name": "stdout",
          "text": [
            "Looking in indexes: https://pypi.org/simple, https://us-python.pkg.dev/colab-wheels/public/simple/\n",
            "Requirement already satisfied: ip2geotools in /usr/local/lib/python3.7/dist-packages (0.1.6)\n",
            "Requirement already satisfied: astroid>=2.1.0 in /usr/local/lib/python3.7/dist-packages (from ip2geotools) (2.12.10)\n",
            "Requirement already satisfied: docutils>=0.14 in /usr/local/lib/python3.7/dist-packages (from ip2geotools) (0.17.1)\n",
            "Requirement already satisfied: lazy-object-proxy>=1.3.1 in /usr/local/lib/python3.7/dist-packages (from ip2geotools) (1.7.1)\n",
            "Requirement already satisfied: maxminddb>=1.4.1 in /usr/local/lib/python3.7/dist-packages (from ip2geotools) (2.2.0)\n",
            "Requirement already satisfied: mccabe>=0.6.1 in /usr/local/lib/python3.7/dist-packages (from ip2geotools) (0.7.0)\n",
            "Requirement already satisfied: Pygments>=2.3.0 in /usr/local/lib/python3.7/dist-packages (from ip2geotools) (2.6.1)\n",
            "Requirement already satisfied: requests>=2.20.1 in /usr/local/lib/python3.7/dist-packages (from ip2geotools) (2.28.1)\n",
            "Requirement already satisfied: pkginfo>=1.4.2 in /usr/local/lib/python3.7/dist-packages (from ip2geotools) (1.8.3)\n",
            "Requirement already satisfied: pyparsing>=2.3.0 in /usr/local/lib/python3.7/dist-packages (from ip2geotools) (3.0.9)\n",
            "Requirement already satisfied: isort>=4.3.4 in /usr/local/lib/python3.7/dist-packages (from ip2geotools) (5.10.1)\n",
            "Requirement already satisfied: cssselect>=1.0.3 in /usr/local/lib/python3.7/dist-packages (from ip2geotools) (1.1.0)\n",
            "Requirement already satisfied: geoip2>=2.9.0 in /usr/local/lib/python3.7/dist-packages (from ip2geotools) (4.6.0)\n",
            "Requirement already satisfied: decorator>=4.3.0 in /usr/local/lib/python3.7/dist-packages (from ip2geotools) (4.4.2)\n",
            "Requirement already satisfied: future>=0.17.1 in /usr/local/lib/python3.7/dist-packages (from ip2geotools) (0.18.2)\n",
            "Requirement already satisfied: pyquery>=1.4.0 in /usr/local/lib/python3.7/dist-packages (from ip2geotools) (1.4.3)\n",
            "Requirement already satisfied: requests-toolbelt>=0.8.0 in /usr/local/lib/python3.7/dist-packages (from ip2geotools) (0.9.1)\n",
            "Requirement already satisfied: bleach>=3.0.2 in /usr/local/lib/python3.7/dist-packages (from ip2geotools) (5.0.1)\n",
            "Requirement already satisfied: wrapt>=1.10.11 in /usr/local/lib/python3.7/dist-packages (from ip2geotools) (1.14.1)\n",
            "Requirement already satisfied: chardet>=3.0.4 in /usr/local/lib/python3.7/dist-packages (from ip2geotools) (3.0.4)\n",
            "Requirement already satisfied: ratelim>=0.1.6 in /usr/local/lib/python3.7/dist-packages (from ip2geotools) (0.1.6)\n",
            "Requirement already satisfied: idna>=2.7 in /usr/local/lib/python3.7/dist-packages (from ip2geotools) (2.10)\n",
            "Requirement already satisfied: geocoder>=1.38.1 in /usr/local/lib/python3.7/dist-packages (from ip2geotools) (1.38.1)\n",
            "Requirement already satisfied: tqdm>=4.28.1 in /usr/local/lib/python3.7/dist-packages (from ip2geotools) (4.64.1)\n",
            "Requirement already satisfied: IP2Location>=8.0.3 in /usr/local/lib/python3.7/dist-packages (from ip2geotools) (8.8.1)\n",
            "Requirement already satisfied: typed-ast>=1.1.0 in /usr/local/lib/python3.7/dist-packages (from ip2geotools) (1.5.4)\n",
            "Requirement already satisfied: Click>=7.0 in /usr/local/lib/python3.7/dist-packages (from ip2geotools) (7.1.2)\n",
            "Requirement already satisfied: six>=1.11.0 in /usr/local/lib/python3.7/dist-packages (from ip2geotools) (1.15.0)\n",
            "Requirement already satisfied: pip-review>=1.0 in /usr/local/lib/python3.7/dist-packages (from ip2geotools) (1.2.0)\n",
            "Requirement already satisfied: typing>=3.6.6 in /usr/local/lib/python3.7/dist-packages (from ip2geotools) (3.7.4.3)\n",
            "Requirement already satisfied: urllib3>=1.24.1 in /usr/local/lib/python3.7/dist-packages (from ip2geotools) (1.26.12)\n",
            "Requirement already satisfied: autopep8>=1.4.3 in /usr/local/lib/python3.7/dist-packages (from ip2geotools) (1.7.0)\n",
            "Requirement already satisfied: certifi>=2018.10.15 in /usr/local/lib/python3.7/dist-packages (from ip2geotools) (2022.6.15)\n",
            "Requirement already satisfied: pycodestyle>=2.4.0 in /usr/local/lib/python3.7/dist-packages (from ip2geotools) (2.9.1)\n",
            "Requirement already satisfied: dicttoxml>=1.7.4 in /usr/local/lib/python3.7/dist-packages (from ip2geotools) (1.7.4)\n",
            "Requirement already satisfied: twine>=1.12.1 in /usr/local/lib/python3.7/dist-packages (from ip2geotools) (4.0.1)\n",
            "Requirement already satisfied: webencodings>=0.5.1 in /usr/local/lib/python3.7/dist-packages (from ip2geotools) (0.5.1)\n",
            "Requirement already satisfied: selenium>=3.141.0 in /usr/local/lib/python3.7/dist-packages (from ip2geotools) (4.4.3)\n",
            "Requirement already satisfied: packaging>=18.0 in /usr/local/lib/python3.7/dist-packages (from ip2geotools) (21.3)\n",
            "Requirement already satisfied: lxml>=4.2.5 in /usr/local/lib/python3.7/dist-packages (from ip2geotools) (4.9.1)\n",
            "Requirement already satisfied: readme-renderer>=24.0 in /usr/local/lib/python3.7/dist-packages (from ip2geotools) (37.1)\n",
            "Requirement already satisfied: pylint>=2.2.0 in /usr/local/lib/python3.7/dist-packages (from ip2geotools) (2.15.2)\n",
            "Requirement already satisfied: typing-extensions>=3.10 in /usr/local/lib/python3.7/dist-packages (from astroid>=2.1.0->ip2geotools) (4.1.1)\n",
            "Requirement already satisfied: toml in /usr/local/lib/python3.7/dist-packages (from autopep8>=1.4.3->ip2geotools) (0.10.2)\n",
            "Requirement already satisfied: aiohttp<4.0.0,>=3.6.2 in /usr/local/lib/python3.7/dist-packages (from geoip2>=2.9.0->ip2geotools) (3.8.1)\n",
            "Requirement already satisfied: aiosignal>=1.1.2 in /usr/local/lib/python3.7/dist-packages (from aiohttp<4.0.0,>=3.6.2->geoip2>=2.9.0->ip2geotools) (1.2.0)\n",
            "Requirement already satisfied: asynctest==0.13.0 in /usr/local/lib/python3.7/dist-packages (from aiohttp<4.0.0,>=3.6.2->geoip2>=2.9.0->ip2geotools) (0.13.0)\n",
            "Requirement already satisfied: multidict<7.0,>=4.5 in /usr/local/lib/python3.7/dist-packages (from aiohttp<4.0.0,>=3.6.2->geoip2>=2.9.0->ip2geotools) (6.0.2)\n",
            "Requirement already satisfied: charset-normalizer<3.0,>=2.0 in /usr/local/lib/python3.7/dist-packages (from aiohttp<4.0.0,>=3.6.2->geoip2>=2.9.0->ip2geotools) (2.1.1)\n",
            "Requirement already satisfied: attrs>=17.3.0 in /usr/local/lib/python3.7/dist-packages (from aiohttp<4.0.0,>=3.6.2->geoip2>=2.9.0->ip2geotools) (22.1.0)\n",
            "Requirement already satisfied: async-timeout<5.0,>=4.0.0a3 in /usr/local/lib/python3.7/dist-packages (from aiohttp<4.0.0,>=3.6.2->geoip2>=2.9.0->ip2geotools) (4.0.2)\n",
            "Requirement already satisfied: yarl<2.0,>=1.0 in /usr/local/lib/python3.7/dist-packages (from aiohttp<4.0.0,>=3.6.2->geoip2>=2.9.0->ip2geotools) (1.8.1)\n",
            "Requirement already satisfied: frozenlist>=1.1.1 in /usr/local/lib/python3.7/dist-packages (from aiohttp<4.0.0,>=3.6.2->geoip2>=2.9.0->ip2geotools) (1.3.1)\n",
            "Requirement already satisfied: pip in /usr/local/lib/python3.7/dist-packages (from pip-review>=1.0->ip2geotools) (21.1.3)\n",
            "Requirement already satisfied: platformdirs>=2.2.0 in /usr/local/lib/python3.7/dist-packages (from pylint>=2.2.0->ip2geotools) (2.5.2)\n",
            "Requirement already satisfied: tomli>=1.1.0 in /usr/local/lib/python3.7/dist-packages (from pylint>=2.2.0->ip2geotools) (2.0.1)\n",
            "Requirement already satisfied: tomlkit>=0.10.1 in /usr/local/lib/python3.7/dist-packages (from pylint>=2.2.0->ip2geotools) (0.11.4)\n",
            "Requirement already satisfied: dill>=0.2 in /usr/local/lib/python3.7/dist-packages (from pylint>=2.2.0->ip2geotools) (0.3.5.1)\n",
            "Requirement already satisfied: trio-websocket~=0.9 in /usr/local/lib/python3.7/dist-packages (from selenium>=3.141.0->ip2geotools) (0.9.2)\n",
            "Requirement already satisfied: trio~=0.17 in /usr/local/lib/python3.7/dist-packages (from selenium>=3.141.0->ip2geotools) (0.21.0)\n",
            "Requirement already satisfied: sniffio in /usr/local/lib/python3.7/dist-packages (from trio~=0.17->selenium>=3.141.0->ip2geotools) (1.3.0)\n",
            "Requirement already satisfied: async-generator>=1.9 in /usr/local/lib/python3.7/dist-packages (from trio~=0.17->selenium>=3.141.0->ip2geotools) (1.10)\n",
            "Requirement already satisfied: sortedcontainers in /usr/local/lib/python3.7/dist-packages (from trio~=0.17->selenium>=3.141.0->ip2geotools) (2.4.0)\n",
            "Requirement already satisfied: outcome in /usr/local/lib/python3.7/dist-packages (from trio~=0.17->selenium>=3.141.0->ip2geotools) (1.2.0)\n",
            "Requirement already satisfied: wsproto>=0.14 in /usr/local/lib/python3.7/dist-packages (from trio-websocket~=0.9->selenium>=3.141.0->ip2geotools) (1.2.0)\n",
            "Requirement already satisfied: rich>=12.0.0 in /usr/local/lib/python3.7/dist-packages (from twine>=1.12.1->ip2geotools) (12.5.1)\n",
            "Requirement already satisfied: importlib-metadata>=3.6 in /usr/local/lib/python3.7/dist-packages (from twine>=1.12.1->ip2geotools) (4.12.0)\n",
            "Requirement already satisfied: keyring>=15.1 in /usr/local/lib/python3.7/dist-packages (from twine>=1.12.1->ip2geotools) (23.9.3)\n",
            "Requirement already satisfied: rfc3986>=1.4.0 in /usr/local/lib/python3.7/dist-packages (from twine>=1.12.1->ip2geotools) (2.0.0)\n",
            "Requirement already satisfied: zipp>=0.5 in /usr/local/lib/python3.7/dist-packages (from importlib-metadata>=3.6->twine>=1.12.1->ip2geotools) (3.8.1)\n",
            "Requirement already satisfied: jeepney>=0.4.2 in /usr/local/lib/python3.7/dist-packages (from keyring>=15.1->twine>=1.12.1->ip2geotools) (0.8.0)\n",
            "Requirement already satisfied: SecretStorage>=3.2 in /usr/local/lib/python3.7/dist-packages (from keyring>=15.1->twine>=1.12.1->ip2geotools) (3.3.3)\n",
            "Requirement already satisfied: jaraco.classes in /usr/local/lib/python3.7/dist-packages (from keyring>=15.1->twine>=1.12.1->ip2geotools) (3.2.2)\n",
            "Requirement already satisfied: commonmark<0.10.0,>=0.9.0 in /usr/local/lib/python3.7/dist-packages (from rich>=12.0.0->twine>=1.12.1->ip2geotools) (0.9.1)\n",
            "Requirement already satisfied: cryptography>=2.0 in /usr/local/lib/python3.7/dist-packages (from SecretStorage>=3.2->keyring>=15.1->twine>=1.12.1->ip2geotools) (38.0.1)\n",
            "Requirement already satisfied: cffi>=1.12 in /usr/local/lib/python3.7/dist-packages (from cryptography>=2.0->SecretStorage>=3.2->keyring>=15.1->twine>=1.12.1->ip2geotools) (1.15.1)\n",
            "Requirement already satisfied: pycparser in /usr/local/lib/python3.7/dist-packages (from cffi>=1.12->cryptography>=2.0->SecretStorage>=3.2->keyring>=15.1->twine>=1.12.1->ip2geotools) (2.21)\n",
            "Requirement already satisfied: PySocks!=1.5.7,<2.0,>=1.5.6 in /usr/local/lib/python3.7/dist-packages (from urllib3>=1.24.1->ip2geotools) (1.7.1)\n",
            "Requirement already satisfied: h11<1,>=0.9.0 in /usr/local/lib/python3.7/dist-packages (from wsproto>=0.14->trio-websocket~=0.9->selenium>=3.141.0->ip2geotools) (0.13.0)\n",
            "Requirement already satisfied: more-itertools in /usr/local/lib/python3.7/dist-packages (from jaraco.classes->keyring>=15.1->twine>=1.12.1->ip2geotools) (8.14.0)\n",
            "Looking in indexes: https://pypi.org/simple, https://us-python.pkg.dev/colab-wheels/public/simple/\n",
            "Requirement already satisfied: faker in /usr/local/lib/python3.7/dist-packages (14.2.0)\n",
            "Requirement already satisfied: typing-extensions>=3.7.4.3 in /usr/local/lib/python3.7/dist-packages (from faker) (4.1.1)\n",
            "Requirement already satisfied: python-dateutil>=2.4 in /usr/local/lib/python3.7/dist-packages (from faker) (2.8.2)\n",
            "Requirement already satisfied: six>=1.5 in /usr/local/lib/python3.7/dist-packages (from python-dateutil>=2.4->faker) (1.15.0)\n"
          ]
        }
      ],
      "source": [
        "!pip install ip2geotools\n",
        "!pip install faker"
      ]
    },
    {
      "cell_type": "markdown",
      "source": [
        "b. Use `Faker` to generate a list of 50 random [IPv4](https://faker.readthedocs.io/en/master/providers/faker.providers.internet.html#) addresses. Instructions to generate these random values can be found in the documentation.\n",
        "\n",
        "**Hint**\n",
        "* Set seed to `123`, i.e. \n",
        "```\n",
        "seed = 123\n",
        "Faker.seed( seed )\n",
        "```"
      ],
      "metadata": {
        "id": "pOdGLNPGl9tK"
      }
    },
    {
      "cell_type": "code",
      "source": [
        "from faker import Faker\n",
        "fake = Faker()"
      ],
      "metadata": {
        "id": "qP1AkDGBQYlc"
      },
      "execution_count": 2,
      "outputs": []
    },
    {
      "cell_type": "code",
      "source": [
        "seed = 123\n",
        "Faker.seed(seed)\n",
        "\n",
        "address = list()\n",
        "for _ in range(50):\n",
        "    address.append(fake.ipv4())"
      ],
      "metadata": {
        "id": "J_M23E-ul_y4"
      },
      "execution_count": 6,
      "outputs": []
    },
    {
      "cell_type": "code",
      "source": [
        "address"
      ],
      "metadata": {
        "colab": {
          "base_uri": "https://localhost:8080/"
        },
        "id": "6NJMkHShRl7_",
        "outputId": "a6ce91f3-54c4-4eac-a89c-894176b40a60"
      },
      "execution_count": 7,
      "outputs": [
        {
          "output_type": "execute_result",
          "data": {
            "text/plain": [
              "['69.148.119.107',\n",
              " '184.135.155.222',\n",
              " '66.113.28.21',\n",
              " '53.66.186.34',\n",
              " '35.82.91.82',\n",
              " '109.101.61.75',\n",
              " '2.251.12.26',\n",
              " '110.250.252.82',\n",
              " '188.21.65.166',\n",
              " '84.48.122.209',\n",
              " '179.67.226.131',\n",
              " '210.247.237.99',\n",
              " '136.20.121.156',\n",
              " '160.86.251.136',\n",
              " '59.143.144.240',\n",
              " '144.251.7.225',\n",
              " '17.45.0.94',\n",
              " '186.253.164.90',\n",
              " '15.186.53.151',\n",
              " '103.66.212.88',\n",
              " '91.204.253.194',\n",
              " '159.28.220.35',\n",
              " '14.182.65.179',\n",
              " '34.9.176.26',\n",
              " '168.92.232.248',\n",
              " '178.164.189.58',\n",
              " '216.97.97.96',\n",
              " '109.100.2.48',\n",
              " '2.75.12.188',\n",
              " '188.103.172.196',\n",
              " '149.130.195.46',\n",
              " '69.164.94.120',\n",
              " '174.232.122.188',\n",
              " '86.133.192.241',\n",
              " '198.231.221.48',\n",
              " '8.244.163.142',\n",
              " '159.170.119.148',\n",
              " '194.238.249.97',\n",
              " '5.107.180.42',\n",
              " '111.28.171.243',\n",
              " '61.133.223.234',\n",
              " '72.159.96.134',\n",
              " '16.172.26.156',\n",
              " '122.208.254.75',\n",
              " '155.203.14.118',\n",
              " '128.5.210.97',\n",
              " '68.1.200.61',\n",
              " '9.107.173.234',\n",
              " '64.140.68.81',\n",
              " '166.10.18.67']"
            ]
          },
          "metadata": {},
          "execution_count": 7
        }
      ]
    },
    {
      "cell_type": "markdown",
      "source": [
        "c. Use `ip2geotools` to get information about the IPs. Use the method `get` from `DbIpCity`. Read the [documentation](https://pypi.org/project/ip2geotools/) on how to properly use the method. \n",
        "\n",
        "* The responses should be save to a list named `responses`.\n",
        "\n",
        "**Hint**\n",
        "* Set the `api_key` to `free`.\n",
        "* Export the response from the get method to a JSON block using the method `to_json`."
      ],
      "metadata": {
        "id": "WWQRe-Wjl_63"
      }
    },
    {
      "cell_type": "code",
      "source": [
        "from ip2geotools.databases.noncommercial import DbIpCity\n",
        "\n",
        "response = [DbIpCity.get(x, api_key='free').to_json() for x in address]\n",
        "# response.to_json()"
      ],
      "metadata": {
        "id": "FAwdJ_TY4tzu"
      },
      "execution_count": 16,
      "outputs": []
    },
    {
      "cell_type": "code",
      "source": [
        "response"
      ],
      "metadata": {
        "colab": {
          "base_uri": "https://localhost:8080/"
        },
        "id": "Vjc6VtbRJFxx",
        "outputId": "b711b00d-7b5e-4aee-8c03-c5856211dccf"
      },
      "execution_count": 17,
      "outputs": [
        {
          "output_type": "execute_result",
          "data": {
            "text/plain": [
              "['{\"ip_address\": \"69.148.119.107\", \"city\": \"Plano\", \"region\": \"Texas\", \"country\": \"US\", \"latitude\": 33.0136764, \"longitude\": -96.6925096}',\n",
              " '{\"ip_address\": \"184.135.155.222\", \"city\": \"Chicago\", \"region\": \"Illinois\", \"country\": \"US\", \"latitude\": 41.8755616, \"longitude\": -87.6244212}',\n",
              " '{\"ip_address\": \"66.113.28.21\", \"city\": \"Colorado Springs\", \"region\": \"Colorado\", \"country\": \"US\", \"latitude\": 38.8339578, \"longitude\": -104.825348}',\n",
              " '{\"ip_address\": \"53.66.186.34\", \"city\": \"Stuttgart (Untert\\\\u00fcrkheim)\", \"region\": \"Baden-W\\\\u00fcrttemberg\", \"country\": \"DE\", \"latitude\": 48.7798209, \"longitude\": 9.2504725}',\n",
              " '{\"ip_address\": \"35.82.91.82\", \"city\": \"Portland\", \"region\": \"Oregon\", \"country\": \"US\", \"latitude\": 45.5202471, \"longitude\": -122.674194}',\n",
              " '{\"ip_address\": \"109.101.61.75\", \"city\": \"Bucharest (Sector 1)\", \"region\": \"Bucure\\\\u0219ti\", \"country\": \"RO\", \"latitude\": 44.416123, \"longitude\": 26.08021346945351}',\n",
              " '{\"ip_address\": \"2.251.12.26\", \"city\": \"Malmo\", \"region\": \"Sk\\\\u00e5ne\", \"country\": \"SE\", \"latitude\": 55.6052931, \"longitude\": 13.0001566}',\n",
              " '{\"ip_address\": \"110.250.252.82\", \"city\": \"Shijiazhuang\", \"region\": \"Hebei\", \"country\": \"CN\", \"latitude\": 38.0429742, \"longitude\": 114.5088385}',\n",
              " '{\"ip_address\": \"188.21.65.166\", \"city\": \"M\\\\u00f6dling\", \"region\": \"Lower Austria\", \"country\": \"AT\", \"latitude\": 48.0855922, \"longitude\": 16.2833526}',\n",
              " '{\"ip_address\": \"84.48.122.209\", \"city\": \"Sandsli (Fyllingsdalen)\", \"region\": \"Vestland\", \"country\": \"NO\", \"latitude\": null, \"longitude\": null}',\n",
              " '{\"ip_address\": \"179.67.226.131\", \"city\": \"S\\\\u00e3o Jo\\\\u00e3o del Rei (Jardim Col\\\\u00f4nia)\", \"region\": \"Minas Gerais\", \"country\": \"BR\", \"latitude\": null, \"longitude\": null}',\n",
              " '{\"ip_address\": \"210.247.237.99\", \"city\": \"Fortitude Valley\", \"region\": \"Queensland\", \"country\": \"AU\", \"latitude\": -27.4572735, \"longitude\": 153.03626627727664}',\n",
              " '{\"ip_address\": \"136.20.121.156\", \"city\": \"Chicago\", \"region\": \"Illinois\", \"country\": \"US\", \"latitude\": 41.8755616, \"longitude\": -87.6244212}',\n",
              " '{\"ip_address\": \"160.86.251.136\", \"city\": \"Chiyoda\", \"region\": \"Tokyo\", \"country\": \"JP\", \"latitude\": 35.6938097, \"longitude\": 139.7532163}',\n",
              " '{\"ip_address\": \"59.143.144.240\", \"city\": \"Osaka\", \"region\": \"\\\\u014csaka\", \"country\": \"JP\", \"latitude\": 34.7021912, \"longitude\": 135.4955866}',\n",
              " '{\"ip_address\": \"144.251.7.225\", \"city\": \"Whitehall\", \"region\": \"Ohio\", \"country\": \"US\", \"latitude\": 39.9667308, \"longitude\": -82.8854559}',\n",
              " '{\"ip_address\": \"17.45.0.94\", \"city\": \"Cupertino\", \"region\": \"California\", \"country\": \"US\", \"latitude\": 37.3228934, \"longitude\": -122.0322895}',\n",
              " '{\"ip_address\": \"186.253.164.90\", \"city\": \"S\\\\u00e3o Paulo\", \"region\": \"S\\\\u00e3o Paulo\", \"country\": \"BR\", \"latitude\": -23.5506507, \"longitude\": -46.6333824}',\n",
              " '{\"ip_address\": \"15.186.53.151\", \"city\": \"Palo Alto\", \"region\": \"California\", \"country\": \"US\", \"latitude\": 37.4443293, \"longitude\": -122.1598465}',\n",
              " '{\"ip_address\": \"103.66.212.88\", \"city\": \"Navi Mumbai (Sector 9)\", \"region\": \"Maharashtra\", \"country\": \"IN\", \"latitude\": 19.0308262, \"longitude\": 73.0198537}',\n",
              " '{\"ip_address\": \"91.204.253.194\", \"city\": \"Podolsk\", \"region\": \"Moscow Oblast\", \"country\": \"RU\", \"latitude\": 55.4308841, \"longitude\": 37.5453056}',\n",
              " '{\"ip_address\": \"159.28.220.35\", \"city\": \"Tokyo\", \"region\": \"Tokyo\", \"country\": \"JP\", \"latitude\": 35.6777691, \"longitude\": 139.7646365}',\n",
              " '{\"ip_address\": \"14.182.65.179\", \"city\": \"Hanoi\", \"region\": \"Hanoi\", \"country\": \"VN\", \"latitude\": 21.04455905, \"longitude\": 105.91867533594649}',\n",
              " '{\"ip_address\": \"34.9.176.26\", \"city\": \"Mountain View\", \"region\": \"California\", \"country\": \"US\", \"latitude\": 37.3893889, \"longitude\": -122.0832101}',\n",
              " '{\"ip_address\": \"168.92.232.248\", \"city\": \"Fairlawn\", \"region\": \"Ohio\", \"country\": \"US\", \"latitude\": 41.1326644, \"longitude\": -81.6262051}',\n",
              " '{\"ip_address\": \"178.164.189.58\", \"city\": \"Budapest (District X.)\", \"region\": \"Budapest\", \"country\": \"HU\", \"latitude\": 47.4687091, \"longitude\": 19.1258591}',\n",
              " '{\"ip_address\": \"216.97.97.96\", \"city\": \"Dallas\", \"region\": \"Texas\", \"country\": \"US\", \"latitude\": 32.7762719, \"longitude\": -96.7968559}',\n",
              " '{\"ip_address\": \"109.100.2.48\", \"city\": \"Bucharest (Sector 1)\", \"region\": \"Bucure\\\\u0219ti\", \"country\": \"RO\", \"latitude\": 44.416123, \"longitude\": 26.08021346945351}',\n",
              " '{\"ip_address\": \"2.75.12.188\", \"city\": \"Arykbalyk\", \"region\": \"North Kazakhstan\", \"country\": \"KZ\", \"latitude\": 52.953907, \"longitude\": 68.198669}',\n",
              " '{\"ip_address\": \"188.103.172.196\", \"city\": \"Frankfurt am Main\", \"region\": \"Hesse\", \"country\": \"DE\", \"latitude\": 50.1106444, \"longitude\": 8.6820917}',\n",
              " '{\"ip_address\": \"149.130.195.46\", \"city\": \"Wellesley\", \"region\": \"Massachusetts\", \"country\": \"US\", \"latitude\": 42.2964859, \"longitude\": -71.2925571}',\n",
              " '{\"ip_address\": \"69.164.94.120\", \"city\": \"Philadelphia (Center City)\", \"region\": \"Pennsylvania\", \"country\": \"US\", \"latitude\": 39.9525541, \"longitude\": -75.15202163851058}',\n",
              " '{\"ip_address\": \"174.232.122.188\", \"city\": \"New York\", \"region\": \"New York\", \"country\": \"US\", \"latitude\": 40.7127281, \"longitude\": -74.0060152}',\n",
              " '{\"ip_address\": \"86.133.192.241\", \"city\": \"Wolverhampton\", \"region\": \"England\", \"country\": \"GB\", \"latitude\": 52.5847651, \"longitude\": -2.127567}',\n",
              " '{\"ip_address\": \"198.231.221.48\", \"city\": \"Nutley\", \"region\": \"New Jersey\", \"country\": \"US\", \"latitude\": 40.8223223, \"longitude\": -74.1598663}',\n",
              " '{\"ip_address\": \"8.244.163.142\", \"city\": \"Koto-ku (Toyosu)\", \"region\": \"Tokyo\", \"country\": \"JP\", \"latitude\": 35.650452, \"longitude\": 139.7962058621045}',\n",
              " '{\"ip_address\": \"159.170.119.148\", \"city\": \"Prestwich\", \"region\": \"England\", \"country\": \"GB\", \"latitude\": 53.5304274, \"longitude\": -2.2960186}',\n",
              " '{\"ip_address\": \"194.238.249.97\", \"city\": \"Milton\", \"region\": \"England\", \"country\": \"GB\", \"latitude\": 52.2422961, \"longitude\": 0.1604726}',\n",
              " '{\"ip_address\": \"5.107.180.42\", \"city\": \"Sharjah city\", \"region\": \"Sharjah\", \"country\": \"AE\", \"latitude\": 25.33320525, \"longitude\": 55.41942849479064}',\n",
              " '{\"ip_address\": \"111.28.171.243\", \"city\": \"Shenzhen\", \"region\": \"Guangdong\", \"country\": \"CN\", \"latitude\": 22.5445741, \"longitude\": 114.0545429}',\n",
              " '{\"ip_address\": \"61.133.223.234\", \"city\": \"Beijing\", \"region\": \"Beijing\", \"country\": \"CN\", \"latitude\": 39.906217, \"longitude\": 116.3912757}',\n",
              " '{\"ip_address\": \"72.159.96.134\", \"city\": \"Atlanta\", \"region\": \"Georgia\", \"country\": \"US\", \"latitude\": 33.7489924, \"longitude\": -84.3902644}',\n",
              " '{\"ip_address\": \"16.172.26.156\", \"city\": \"Palo Alto\", \"region\": \"California\", \"country\": \"US\", \"latitude\": 37.4443293, \"longitude\": -122.1598465}',\n",
              " '{\"ip_address\": \"122.208.254.75\", \"city\": \"Chiyoda\", \"region\": \"Tokyo\", \"country\": \"JP\", \"latitude\": 35.6938097, \"longitude\": 139.7532163}',\n",
              " '{\"ip_address\": \"155.203.14.118\", \"city\": \"Elgin\", \"region\": \"Illinois\", \"country\": \"US\", \"latitude\": 42.03726, \"longitude\": -88.2810994}',\n",
              " '{\"ip_address\": \"128.5.210.97\", \"city\": \"Dearborn\", \"region\": \"Michigan\", \"country\": \"US\", \"latitude\": 42.3222599, \"longitude\": -83.1763145}',\n",
              " '{\"ip_address\": \"68.1.200.61\", \"city\": \"Ashburn\", \"region\": \"Virginia\", \"country\": \"US\", \"latitude\": 39.030019100000004, \"longitude\": -77.46964646557657}',\n",
              " '{\"ip_address\": \"9.107.173.234\", \"city\": \"Chicago\", \"region\": \"Illinois\", \"country\": \"US\", \"latitude\": 41.8755616, \"longitude\": -87.6244212}',\n",
              " '{\"ip_address\": \"64.140.68.81\", \"city\": \"Washington D.C.\", \"region\": \"District of Columbia\", \"country\": \"US\", \"latitude\": 38.8950368, \"longitude\": -77.0365427}',\n",
              " '{\"ip_address\": \"166.10.18.67\", \"city\": \"Chicago\", \"region\": \"Illinois\", \"country\": \"US\", \"latitude\": 41.8755616, \"longitude\": -87.6244212}']"
            ]
          },
          "metadata": {},
          "execution_count": 17
        }
      ]
    },
    {
      "cell_type": "markdown",
      "source": [
        "d. Data cleanup. Some of the responses have empty fields for `latitude` and `longitude`. Remove the entries from the list that are missing either of these values.\n",
        "\n",
        "**Hint**\n",
        "* If the latitude and longitude are missing, then the value of either of these is set to `None`."
      ],
      "metadata": {
        "id": "4kKAkjl6cRgL"
      }
    },
    {
      "cell_type": "code",
      "source": [
        "# INSERT CODE IN THIS CELL"
      ],
      "metadata": {
        "id": "I4iEjPgGcQv-"
      },
      "execution_count": null,
      "outputs": []
    },
    {
      "cell_type": "markdown",
      "source": [
        "d. Save variables to disk. Use [pickle](https://docs.python.org/3/library/pickle.html) to serialize the variable `responses`. Save the pickle file to the course folder in your Google Drive in a file named `ips.pkl`. "
      ],
      "metadata": {
        "id": "R7qQD2sDDwLc"
      }
    },
    {
      "cell_type": "code",
      "source": [
        "# INSERT CODE IN THIS CELL"
      ],
      "metadata": {
        "id": "HInSJoZODwVC"
      },
      "execution_count": null,
      "outputs": []
    },
    {
      "cell_type": "markdown",
      "source": [
        "This section will make a plot using the data above but will fail for missing data. So make sure the data is clean. Nothing to do here.\n",
        "\n",
        "**Hint**\n",
        "* If the plot is printed, then you are good to do. Keep in mind the shape of `responses`: it is a list of strings that needs to converted to JSON."
      ],
      "metadata": {
        "id": "zluEy8OW4xED"
      }
    },
    {
      "cell_type": "code",
      "source": [
        "# DO NOT MODIFY THIS BLOCK\n",
        "!pip install basemap\n",
        "!pip install basemap-data-hires\n",
        "\n",
        "import matplotlib\n",
        "import matplotlib.pyplot as plt\n",
        "import matplotlib.cm\n",
        "import math\n",
        "from mpl_toolkits.basemap import Basemap\n",
        "from matplotlib.patches import Polygon\n",
        "from matplotlib.collections import PatchCollection\n",
        "from matplotlib.colors import Normalize\n",
        "\n",
        "fig, ax = plt.subplots(figsize=(25,25))\n",
        "m = Basemap(resolution='i', # c, l, i, h, f or None\n",
        "\tprojection='merc',\n",
        "\tlat_1=45.,lat_2=55,lat_0=50,lon_0=-107,\n",
        "\t\tllcrnrlon=-180, llcrnrlat=-70, urcrnrlon=180, urcrnrlat=80)\n",
        "m.drawmapboundary(fill_color='#45bcec')\n",
        "m.fillcontinents(color='#f2f2f2',lake_color='#46bcec')\n",
        "\n",
        "scale = 0.1\n",
        "for response in responses:\n",
        "    response = json.loads(response)\n",
        "\n",
        "    if not response['longitude'] == None:\n",
        "      lon = response['longitude']\n",
        "      lat = response['latitude']\n",
        "      markerSize = scale*response['longitude']\n",
        "      x, y = m(lon,lat)\n",
        "      plt.plot(x, y, markersize = markerSize, color = 'red', marker = 'o')\n",
        "\n",
        "plt.show()"
      ],
      "metadata": {
        "id": "swnWVBCdHlP_"
      },
      "execution_count": null,
      "outputs": []
    },
    {
      "cell_type": "markdown",
      "source": [
        "## Exercise - Random sampling\n",
        "Numpy has a very robust library for sampling from random distributions. For a detailed list of discrete and continuous distributions that can be sampled from, see the [documentation](https://numpy.org/doc/stable/reference/random/index.html).\n",
        "\n",
        "For example, sampling from an exponential distribution can be achieved with"
      ],
      "metadata": {
        "id": "zBqatJorqEwN"
      }
    },
    {
      "cell_type": "code",
      "source": [
        "# DO NOT EDIT THIS CELL\n",
        "import numpy as np\n",
        "import matplotlib.pyplot as plt\n",
        "\n",
        "np.random.seed(123)\n",
        "\n",
        "#this line is sampling from an exponential distribution\n",
        "elambda = 1\n",
        "values = np.random.exponential(scale=elambda, size=10000)\n",
        "\n",
        "num_bins = 100\n",
        "fig, ax = plt.subplots()\n",
        "n, bins, patches = ax.hist(values, num_bins, density=True)\n",
        "ax.set_xlabel('Values')\n",
        "ax.set_ylabel('Probability density')\n",
        "ax.set_title(r'Random sampling')\n",
        "fig.tight_layout()\n",
        "\n",
        "plt.show()"
      ],
      "metadata": {
        "id": "2jr7TEcIqEEZ"
      },
      "execution_count": null,
      "outputs": []
    },
    {
      "cell_type": "markdown",
      "source": [
        "a. Inverse Transform Sampling. The inverse CDF method is a widely documented method for generating random samples.\n",
        "\n",
        "In this exercise you will use this method to sample from an exponential distribution with parameter `lambda=1`.\n",
        "\n",
        "Since this is a widely documented method, part of this exercise includes finding the method and implementing it yourself.\n",
        "\n",
        "* Set `lambda=1`.\n",
        "* Generate `10000` samples.\n",
        "* Save the samples to a variable named `samples`.\n",
        "\n",
        "**Hint**\n",
        "* This is not complicated, you should be able to write this in a couple of lines.\n",
        "* Feel free to use online resources like StackOverFlow."
      ],
      "metadata": {
        "id": "eHScyeSoZv-u"
      }
    },
    {
      "cell_type": "code",
      "source": [
        "# INSERT CODE IN THIS CELL\n",
        "import numpy as np\n",
        "import matplotlib.pyplot as plt\n",
        "\n",
        "np.random.seed(123)\n",
        "\n",
        "# <--- INSERT CODE HERE -->\n",
        "# <--- INSERT CODE HERE -->\n",
        "\n",
        "num_bins=100\n",
        "fig, ax = plt.subplots()\n",
        "n, bins, patches = ax.hist(samples, num_bins, density=True)\n",
        "ax.set_xlabel('Values')\n",
        "ax.set_ylabel('Probability density')\n",
        "ax.set_title(r'Random sampling')\n",
        "fig.tight_layout()\n",
        "plt.show()"
      ],
      "metadata": {
        "id": "n7xdhu-iZcI6"
      },
      "execution_count": null,
      "outputs": []
    },
    {
      "cell_type": "markdown",
      "source": [
        "# Exercise - SIR model\n",
        "The SIR model is a simple mathematical model of epidemics. The entities in this model stand for\n",
        "\n",
        "* (S)usceptible: inviduals that are not infected with the disease yet. However, they are not immune to it either, and so they can become infected with the disease in the future.\n",
        "* (I)nfected or infectious: individuals that are infected with the disease and can transmit the disease to susceptible people.\n",
        "* (R)ecovered: individuals who have recovered from the disease and are immune, so they can no longer be infected.\n",
        "\n",
        "In the most basic form, this model model can be represented as\n",
        "\n",
        "<img src=\"https://wikimedia.org/api/rest_v1/media/math/render/svg/c2a8fd2e93bfcf1092a44cfec7ef32c1a80a26f4\" />\n",
        "\n",
        "where \n",
        "\n",
        "* β is the average number of contacts per person per time\n",
        "* γ is the probability a contagious person becoming non-contagious\n",
        "* N is the population size (constant)\n",
        "\n",
        "Consider the numerical solution below using the parameters\n",
        "\n",
        "* `beta = 0.2`\n",
        "* `gamma = 0.07`\n",
        "* `N = 100`\n",
        "* `S0 = 99`\n",
        "* `I0 = 1`\n",
        "* `R0 = 0`\n",
        "\n",
        "\n",
        "\n"
      ],
      "metadata": {
        "id": "fDxGQ4CC9uNw"
      }
    },
    {
      "cell_type": "code",
      "source": [
        "# DO NOT MODIFY THIS BLOCK\n",
        "!pip install numpy\n",
        "!pip install scipy\n",
        "\n",
        "import numpy as np\n",
        "from scipy.integrate import odeint\n",
        "\n",
        "# Model\n",
        "def model(y, t, N, beta, gamma):\n",
        "    S, I, R = y\n",
        "    dSdt = -beta * S * I / N\n",
        "    dIdt = beta * S * I / N - gamma * I\n",
        "    dRdt = gamma * I\n",
        "    return dSdt, dIdt, dRdt\n",
        "\n",
        "# Parameters\n",
        "N = 100\n",
        "beta = 0.2\n",
        "gamma = 0.07\n",
        "S_0 = 99\n",
        "I_0 = 1\n",
        "R_0 = 0\n",
        "t = np.linspace(0, 360, 360)\n",
        "\n",
        "# Initial conditions vector\n",
        "y0 = (S_0,I_0,R_0)\n",
        "\n",
        "# Solve using ODE solver\n",
        "results = odeint(model, y0, t, args=(N,beta,gamma))"
      ],
      "metadata": {
        "id": "9JGRfnzwV4em"
      },
      "execution_count": null,
      "outputs": []
    },
    {
      "cell_type": "markdown",
      "source": [
        "## Pretty plot\n",
        "Use matplotlib and seaborn to make a figure. \n",
        "\n",
        "* The figure size should `25x25`\n",
        "* The figure should have one plot with three lineplots, `t vs S`, `t vs I` and `t vs R`.\n",
        "* Set title to `SIR model`.\n",
        "* Set x-label to `Time (t)`.\n",
        "* Set y-label to `Population size`.\n",
        "* Make sure each line plot uses different colors."
      ],
      "metadata": {
        "id": "Xiw2SXsYV4xL"
      }
    },
    {
      "cell_type": "code",
      "source": [
        "# INSERT CODE IN THIS CELL"
      ],
      "metadata": {
        "id": "wbFTN6yjV731"
      },
      "execution_count": null,
      "outputs": []
    },
    {
      "cell_type": "markdown",
      "source": [
        "## Save plot to disk\n",
        "Save the plot above to the course folder in your Google Drive to a file named `sir.png`. "
      ],
      "metadata": {
        "id": "kshoCNsWV8Zz"
      }
    },
    {
      "cell_type": "code",
      "source": [
        "# INSERT CODE IN THIS CELL"
      ],
      "metadata": {
        "id": "Fb7_lnNE55UY"
      },
      "execution_count": null,
      "outputs": []
    },
    {
      "cell_type": "markdown",
      "source": [
        "# Exercise - Matrix multiplication using `numpy` (updated edition).\n",
        "\n",
        "Design an implement a method called `can_be_multiplied`. \n",
        "\n",
        "* Use only the standard libary and `numpy`.\n",
        "* This method takes two Numpy arrays and returns True if these two matrices can be multiplied. False, otherwise.\n",
        "* Work on the assumption that if the input arguments are `a` and `b` (in that order), then the operation `a*b` will be checked by this method and not `b*a`.\n",
        "* If the input argument is not a Numpy array, then the method should return `None`.\n",
        "* **NEW**. If any of the arrays is a Numpy array, then check that the `dtype` of these arrays is numeric.\n",
        "* **NEW**. If any of the arrays is empty, then issue a warning message letting the user know which of the arrays is empty.\n",
        "* Write docstrings for this method.\n",
        "* Write at least 6 assertions to test your method.\n",
        "\n",
        "**Hint**\n",
        "* Test for empty matrices. If any of the matrices are empty, then this method should return `False`."
      ],
      "metadata": {
        "id": "y4Q5bs-4ujiw"
      }
    },
    {
      "cell_type": "code",
      "source": [
        "# INSERT CODE IN THIS CELL"
      ],
      "metadata": {
        "id": "aGKEp07vujpy"
      },
      "execution_count": null,
      "outputs": []
    }
  ]
}