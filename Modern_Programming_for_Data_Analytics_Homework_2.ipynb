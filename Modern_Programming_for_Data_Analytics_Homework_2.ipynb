{
  "nbformat": 4,
  "nbformat_minor": 0,
  "metadata": {
    "colab": {
      "provenance": [],
      "collapsed_sections": [],
      "include_colab_link": true
    },
    "kernelspec": {
      "name": "python3",
      "display_name": "Python 3"
    },
    "language_info": {
      "name": "python"
    }
  },
  "cells": [
    {
      "cell_type": "markdown",
      "metadata": {
        "id": "view-in-github",
        "colab_type": "text"
      },
      "source": [
        "<a href=\"https://colab.research.google.com/github/smishr97/38610/blob/main/Modern_Programming_for_Data_Analytics_Homework_2.ipynb\" target=\"_parent\"><img src=\"https://colab.research.google.com/assets/colab-badge.svg\" alt=\"Open In Colab\"/></a>"
      ]
    },
    {
      "cell_type": "markdown",
      "source": [
        "# Modern Programming for Data Analytics\n",
        "Name: Shivam Mishra\n",
        "\n",
        "Andrew ID: shivammi"
      ],
      "metadata": {
        "id": "q32gveKttS1e"
      }
    },
    {
      "cell_type": "markdown",
      "source": [
        "# Exercise - GeoIP\n",
        "a. Install the package [ip2geotools](https://pypi.org/project/ip2geotools/) and [Faker](https://pypi.org/project/Faker/) using `pip`."
      ],
      "metadata": {
        "id": "rZpjQ6Yged6i"
      }
    },
    {
      "cell_type": "code",
      "execution_count": 1,
      "metadata": {
        "id": "TvbZcWBAedAf",
        "colab": {
          "base_uri": "https://localhost:8080/",
          "height": 1000
        },
        "outputId": "121015ed-1796-4276-94da-a35b32ffb871"
      },
      "outputs": [
        {
          "output_type": "stream",
          "name": "stdout",
          "text": [
            "Looking in indexes: https://pypi.org/simple, https://us-python.pkg.dev/colab-wheels/public/simple/\n",
            "Collecting ip2geotools\n",
            "  Downloading ip2geotools-0.1.6-py3-none-any.whl (16 kB)\n",
            "Collecting geoip2>=2.9.0\n",
            "  Downloading geoip2-4.6.0-py2.py3-none-any.whl (26 kB)\n",
            "Requirement already satisfied: docutils>=0.14 in /usr/local/lib/python3.7/dist-packages (from ip2geotools) (0.17.1)\n",
            "Collecting typed-ast>=1.1.0\n",
            "  Downloading typed_ast-1.5.4-cp37-cp37m-manylinux_2_5_x86_64.manylinux1_x86_64.manylinux_2_12_x86_64.manylinux2010_x86_64.whl (843 kB)\n",
            "\u001b[K     |████████████████████████████████| 843 kB 6.8 MB/s \n",
            "\u001b[?25hCollecting pyquery>=1.4.0\n",
            "  Downloading pyquery-1.4.3-py3-none-any.whl (22 kB)\n",
            "Collecting IP2Location>=8.0.3\n",
            "  Downloading IP2Location-8.8.1-py3-none-any.whl (12 kB)\n",
            "Collecting future>=0.17.1\n",
            "  Downloading future-0.18.2.tar.gz (829 kB)\n",
            "\u001b[K     |████████████████████████████████| 829 kB 38.4 MB/s \n",
            "\u001b[?25hRequirement already satisfied: idna>=2.7 in /usr/local/lib/python3.7/dist-packages (from ip2geotools) (2.10)\n",
            "Collecting lazy-object-proxy>=1.3.1\n",
            "  Downloading lazy_object_proxy-1.7.1-cp37-cp37m-manylinux_2_5_x86_64.manylinux1_x86_64.manylinux_2_17_x86_64.manylinux2014_x86_64.whl (57 kB)\n",
            "\u001b[K     |████████████████████████████████| 57 kB 6.5 MB/s \n",
            "\u001b[?25hCollecting mccabe>=0.6.1\n",
            "  Downloading mccabe-0.7.0-py2.py3-none-any.whl (7.3 kB)\n",
            "Requirement already satisfied: chardet>=3.0.4 in /usr/local/lib/python3.7/dist-packages (from ip2geotools) (3.0.4)\n",
            "Requirement already satisfied: Pygments>=2.3.0 in /usr/local/lib/python3.7/dist-packages (from ip2geotools) (2.6.1)\n",
            "Collecting pylint>=2.2.0\n",
            "  Downloading pylint-2.15.2-py3-none-any.whl (507 kB)\n",
            "\u001b[K     |████████████████████████████████| 507 kB 45.8 MB/s \n",
            "\u001b[?25hRequirement already satisfied: decorator>=4.3.0 in /usr/local/lib/python3.7/dist-packages (from ip2geotools) (4.4.2)\n",
            "Collecting requests-toolbelt>=0.8.0\n",
            "  Downloading requests_toolbelt-0.9.1-py2.py3-none-any.whl (54 kB)\n",
            "\u001b[K     |████████████████████████████████| 54 kB 3.2 MB/s \n",
            "\u001b[?25hCollecting pkginfo>=1.4.2\n",
            "  Downloading pkginfo-1.8.3-py2.py3-none-any.whl (26 kB)\n",
            "Collecting maxminddb>=1.4.1\n",
            "  Downloading maxminddb-2.2.0.tar.gz (330 kB)\n",
            "\u001b[K     |████████████████████████████████| 330 kB 24.8 MB/s \n",
            "\u001b[?25hRequirement already satisfied: six>=1.11.0 in /usr/local/lib/python3.7/dist-packages (from ip2geotools) (1.15.0)\n",
            "Collecting dicttoxml>=1.7.4\n",
            "  Downloading dicttoxml-1.7.4.tar.gz (18 kB)\n",
            "Requirement already satisfied: bleach>=3.0.2 in /usr/local/lib/python3.7/dist-packages (from ip2geotools) (5.0.1)\n",
            "Requirement already satisfied: webencodings>=0.5.1 in /usr/local/lib/python3.7/dist-packages (from ip2geotools) (0.5.1)\n",
            "Requirement already satisfied: wrapt>=1.10.11 in /usr/local/lib/python3.7/dist-packages (from ip2geotools) (1.14.1)\n",
            "Collecting typing>=3.6.6\n",
            "  Downloading typing-3.7.4.3.tar.gz (78 kB)\n",
            "\u001b[K     |████████████████████████████████| 78 kB 7.2 MB/s \n",
            "\u001b[?25hRequirement already satisfied: pyparsing>=2.3.0 in /usr/local/lib/python3.7/dist-packages (from ip2geotools) (3.0.9)\n",
            "Collecting readme-renderer>=24.0\n",
            "  Downloading readme_renderer-37.1-py3-none-any.whl (14 kB)\n",
            "Requirement already satisfied: certifi>=2018.10.15 in /usr/local/lib/python3.7/dist-packages (from ip2geotools) (2022.6.15)\n",
            "Collecting ratelim>=0.1.6\n",
            "  Downloading ratelim-0.1.6-py2.py3-none-any.whl (4.0 kB)\n",
            "Requirement already satisfied: requests>=2.20.1 in /usr/local/lib/python3.7/dist-packages (from ip2geotools) (2.23.0)\n",
            "Requirement already satisfied: lxml>=4.2.5 in /usr/local/lib/python3.7/dist-packages (from ip2geotools) (4.9.1)\n",
            "Collecting twine>=1.12.1\n",
            "  Downloading twine-4.0.1-py3-none-any.whl (36 kB)\n",
            "Collecting astroid>=2.1.0\n",
            "  Downloading astroid-2.12.10-py3-none-any.whl (263 kB)\n",
            "\u001b[K     |████████████████████████████████| 263 kB 40.4 MB/s \n",
            "\u001b[?25hRequirement already satisfied: urllib3>=1.24.1 in /usr/local/lib/python3.7/dist-packages (from ip2geotools) (1.24.3)\n",
            "Collecting cssselect>=1.0.3\n",
            "  Downloading cssselect-1.1.0-py2.py3-none-any.whl (16 kB)\n",
            "Requirement already satisfied: packaging>=18.0 in /usr/local/lib/python3.7/dist-packages (from ip2geotools) (21.3)\n",
            "Collecting pycodestyle>=2.4.0\n",
            "  Downloading pycodestyle-2.9.1-py2.py3-none-any.whl (41 kB)\n",
            "\u001b[K     |████████████████████████████████| 41 kB 601 kB/s \n",
            "\u001b[?25hCollecting selenium>=3.141.0\n",
            "  Downloading selenium-4.4.3-py3-none-any.whl (985 kB)\n",
            "\u001b[K     |████████████████████████████████| 985 kB 49.4 MB/s \n",
            "\u001b[?25hCollecting pip-review>=1.0\n",
            "  Downloading pip_review-1.2.0-py3-none-any.whl (7.4 kB)\n",
            "Collecting geocoder>=1.38.1\n",
            "  Downloading geocoder-1.38.1-py2.py3-none-any.whl (98 kB)\n",
            "\u001b[K     |████████████████████████████████| 98 kB 8.9 MB/s \n",
            "\u001b[?25hRequirement already satisfied: Click>=7.0 in /usr/local/lib/python3.7/dist-packages (from ip2geotools) (7.1.2)\n",
            "Collecting isort>=4.3.4\n",
            "  Downloading isort-5.10.1-py3-none-any.whl (103 kB)\n",
            "\u001b[K     |████████████████████████████████| 103 kB 40.5 MB/s \n",
            "\u001b[?25hRequirement already satisfied: tqdm>=4.28.1 in /usr/local/lib/python3.7/dist-packages (from ip2geotools) (4.64.1)\n",
            "Collecting autopep8>=1.4.3\n",
            "  Downloading autopep8-1.7.0-py2.py3-none-any.whl (45 kB)\n",
            "\u001b[K     |████████████████████████████████| 45 kB 4.6 MB/s \n",
            "\u001b[?25hRequirement already satisfied: typing-extensions>=3.10 in /usr/local/lib/python3.7/dist-packages (from astroid>=2.1.0->ip2geotools) (4.1.1)\n",
            "Requirement already satisfied: toml in /usr/local/lib/python3.7/dist-packages (from autopep8>=1.4.3->ip2geotools) (0.10.2)\n",
            "Collecting urllib3>=1.24.1\n",
            "  Downloading urllib3-1.26.12-py2.py3-none-any.whl (140 kB)\n",
            "\u001b[K     |████████████████████████████████| 140 kB 46.6 MB/s \n",
            "\u001b[?25hRequirement already satisfied: aiohttp<4.0.0,>=3.6.2 in /usr/local/lib/python3.7/dist-packages (from geoip2>=2.9.0->ip2geotools) (3.8.1)\n",
            "Collecting requests>=2.20.1\n",
            "  Downloading requests-2.28.1-py3-none-any.whl (62 kB)\n",
            "\u001b[K     |████████████████████████████████| 62 kB 1.9 MB/s \n",
            "\u001b[?25hRequirement already satisfied: attrs>=17.3.0 in /usr/local/lib/python3.7/dist-packages (from aiohttp<4.0.0,>=3.6.2->geoip2>=2.9.0->ip2geotools) (22.1.0)\n",
            "Requirement already satisfied: async-timeout<5.0,>=4.0.0a3 in /usr/local/lib/python3.7/dist-packages (from aiohttp<4.0.0,>=3.6.2->geoip2>=2.9.0->ip2geotools) (4.0.2)\n",
            "Requirement already satisfied: charset-normalizer<3.0,>=2.0 in /usr/local/lib/python3.7/dist-packages (from aiohttp<4.0.0,>=3.6.2->geoip2>=2.9.0->ip2geotools) (2.1.1)\n",
            "Requirement already satisfied: aiosignal>=1.1.2 in /usr/local/lib/python3.7/dist-packages (from aiohttp<4.0.0,>=3.6.2->geoip2>=2.9.0->ip2geotools) (1.2.0)\n",
            "Requirement already satisfied: multidict<7.0,>=4.5 in /usr/local/lib/python3.7/dist-packages (from aiohttp<4.0.0,>=3.6.2->geoip2>=2.9.0->ip2geotools) (6.0.2)\n",
            "Requirement already satisfied: frozenlist>=1.1.1 in /usr/local/lib/python3.7/dist-packages (from aiohttp<4.0.0,>=3.6.2->geoip2>=2.9.0->ip2geotools) (1.3.1)\n",
            "Requirement already satisfied: asynctest==0.13.0 in /usr/local/lib/python3.7/dist-packages (from aiohttp<4.0.0,>=3.6.2->geoip2>=2.9.0->ip2geotools) (0.13.0)\n",
            "Requirement already satisfied: yarl<2.0,>=1.0 in /usr/local/lib/python3.7/dist-packages (from aiohttp<4.0.0,>=3.6.2->geoip2>=2.9.0->ip2geotools) (1.8.1)\n",
            "Requirement already satisfied: pip in /usr/local/lib/python3.7/dist-packages (from pip-review>=1.0->ip2geotools) (21.1.3)\n",
            "Requirement already satisfied: dill>=0.2 in /usr/local/lib/python3.7/dist-packages (from pylint>=2.2.0->ip2geotools) (0.3.5.1)\n",
            "Requirement already satisfied: tomli>=1.1.0 in /usr/local/lib/python3.7/dist-packages (from pylint>=2.2.0->ip2geotools) (2.0.1)\n",
            "Collecting tomlkit>=0.10.1\n",
            "  Downloading tomlkit-0.11.4-py3-none-any.whl (35 kB)\n",
            "Collecting platformdirs>=2.2.0\n",
            "  Downloading platformdirs-2.5.2-py3-none-any.whl (14 kB)\n",
            "Collecting trio~=0.17\n",
            "  Downloading trio-0.21.0-py3-none-any.whl (358 kB)\n",
            "\u001b[K     |████████████████████████████████| 358 kB 59.8 MB/s \n",
            "\u001b[?25hCollecting trio-websocket~=0.9\n",
            "  Downloading trio_websocket-0.9.2-py3-none-any.whl (16 kB)\n",
            "Collecting sniffio\n",
            "  Downloading sniffio-1.3.0-py3-none-any.whl (10 kB)\n",
            "Collecting outcome\n",
            "  Downloading outcome-1.2.0-py2.py3-none-any.whl (9.7 kB)\n",
            "Requirement already satisfied: sortedcontainers in /usr/local/lib/python3.7/dist-packages (from trio~=0.17->selenium>=3.141.0->ip2geotools) (2.4.0)\n",
            "Collecting async-generator>=1.9\n",
            "  Downloading async_generator-1.10-py3-none-any.whl (18 kB)\n",
            "Collecting wsproto>=0.14\n",
            "  Downloading wsproto-1.2.0-py3-none-any.whl (24 kB)\n",
            "Collecting keyring>=15.1\n",
            "  Downloading keyring-23.9.3-py3-none-any.whl (35 kB)\n",
            "Requirement already satisfied: importlib-metadata>=3.6 in /usr/local/lib/python3.7/dist-packages (from twine>=1.12.1->ip2geotools) (4.12.0)\n",
            "Collecting rich>=12.0.0\n",
            "  Downloading rich-12.5.1-py3-none-any.whl (235 kB)\n",
            "\u001b[K     |████████████████████████████████| 235 kB 59.6 MB/s \n",
            "\u001b[?25hCollecting rfc3986>=1.4.0\n",
            "  Downloading rfc3986-2.0.0-py2.py3-none-any.whl (31 kB)\n",
            "Requirement already satisfied: zipp>=0.5 in /usr/local/lib/python3.7/dist-packages (from importlib-metadata>=3.6->twine>=1.12.1->ip2geotools) (3.8.1)\n",
            "Collecting jaraco.classes\n",
            "  Downloading jaraco.classes-3.2.2-py3-none-any.whl (6.0 kB)\n",
            "Collecting jeepney>=0.4.2\n",
            "  Downloading jeepney-0.8.0-py3-none-any.whl (48 kB)\n",
            "\u001b[K     |████████████████████████████████| 48 kB 7.9 MB/s \n",
            "\u001b[?25hCollecting SecretStorage>=3.2\n",
            "  Downloading SecretStorage-3.3.3-py3-none-any.whl (15 kB)\n",
            "Collecting commonmark<0.10.0,>=0.9.0\n",
            "  Downloading commonmark-0.9.1-py2.py3-none-any.whl (51 kB)\n",
            "\u001b[K     |████████████████████████████████| 51 kB 9.8 MB/s \n",
            "\u001b[?25hCollecting cryptography>=2.0\n",
            "  Downloading cryptography-38.0.1-cp36-abi3-manylinux_2_24_x86_64.whl (4.0 MB)\n",
            "\u001b[K     |████████████████████████████████| 4.0 MB 42.1 MB/s \n",
            "\u001b[?25hRequirement already satisfied: cffi>=1.12 in /usr/local/lib/python3.7/dist-packages (from cryptography>=2.0->SecretStorage>=3.2->keyring>=15.1->twine>=1.12.1->ip2geotools) (1.15.1)\n",
            "Requirement already satisfied: pycparser in /usr/local/lib/python3.7/dist-packages (from cffi>=1.12->cryptography>=2.0->SecretStorage>=3.2->keyring>=15.1->twine>=1.12.1->ip2geotools) (2.21)\n",
            "Requirement already satisfied: PySocks!=1.5.7,<2.0,>=1.5.6 in /usr/local/lib/python3.7/dist-packages (from urllib3>=1.24.1->ip2geotools) (1.7.1)\n",
            "Collecting h11<1,>=0.9.0\n",
            "  Downloading h11-0.13.0-py3-none-any.whl (58 kB)\n",
            "\u001b[K     |████████████████████████████████| 58 kB 8.5 MB/s \n",
            "\u001b[?25hRequirement already satisfied: more-itertools in /usr/local/lib/python3.7/dist-packages (from jaraco.classes->keyring>=15.1->twine>=1.12.1->ip2geotools) (8.14.0)\n",
            "Building wheels for collected packages: dicttoxml, future, maxminddb, typing\n",
            "  Building wheel for dicttoxml (setup.py) ... \u001b[?25l\u001b[?25hdone\n",
            "  Created wheel for dicttoxml: filename=dicttoxml-1.7.4-py3-none-any.whl size=17464 sha256=4890224bcf5bead36510eff037f5f4aabdd1823305a06fe32ba70d2bfb088a49\n",
            "  Stored in directory: /root/.cache/pip/wheels/18/44/5a/c7b93703f611ae3b50820efbaf265413e6b183a56cbec6f661\n",
            "  Building wheel for future (setup.py) ... \u001b[?25l\u001b[?25hdone\n",
            "  Created wheel for future: filename=future-0.18.2-py3-none-any.whl size=491070 sha256=e523024b91241d908fd31cc28ee523fda81fdd8aed793ea3b8c62efa2baf14db\n",
            "  Stored in directory: /root/.cache/pip/wheels/56/b0/fe/4410d17b32f1f0c3cf54cdfb2bc04d7b4b8f4ae377e2229ba0\n",
            "  Building wheel for maxminddb (setup.py) ... \u001b[?25l\u001b[?25hdone\n",
            "  Created wheel for maxminddb: filename=maxminddb-2.2.0-py2.py3-none-any.whl size=16356 sha256=e23fe7d3157e3f8856555cd15ade6465271049b53df319c00736d99d9bee827f\n",
            "  Stored in directory: /root/.cache/pip/wheels/3b/eb/d9/b4407ec5d0ccddce61c8d2f4db72a68a77a04adea2245b98ef\n",
            "  Building wheel for typing (setup.py) ... \u001b[?25l\u001b[?25hdone\n",
            "  Created wheel for typing: filename=typing-3.7.4.3-py3-none-any.whl size=26325 sha256=2f663ee392b0915304f634a5bd803b2d9f9dffaf2f9cf0209467fd8498cc18b1\n",
            "  Stored in directory: /root/.cache/pip/wheels/35/f3/15/01aa6571f0a72ee6ae7b827c1491c37a1f72d686fd22b43b0e\n",
            "Successfully built dicttoxml future maxminddb typing\n",
            "Installing collected packages: urllib3, sniffio, outcome, jeepney, h11, cryptography, async-generator, wsproto, typed-ast, trio, SecretStorage, requests, lazy-object-proxy, jaraco.classes, commonmark, trio-websocket, tomlkit, rich, rfc3986, requests-toolbelt, readme-renderer, ratelim, pycodestyle, platformdirs, pkginfo, mccabe, maxminddb, keyring, isort, future, cssselect, astroid, typing, twine, selenium, pyquery, pylint, pip-review, IP2Location, geoip2, geocoder, dicttoxml, autopep8, ip2geotools\n",
            "  Attempting uninstall: urllib3\n",
            "    Found existing installation: urllib3 1.24.3\n",
            "    Uninstalling urllib3-1.24.3:\n",
            "      Successfully uninstalled urllib3-1.24.3\n",
            "  Attempting uninstall: requests\n",
            "    Found existing installation: requests 2.23.0\n",
            "    Uninstalling requests-2.23.0:\n",
            "      Successfully uninstalled requests-2.23.0\n",
            "  Attempting uninstall: future\n",
            "    Found existing installation: future 0.16.0\n",
            "    Uninstalling future-0.16.0:\n",
            "      Successfully uninstalled future-0.16.0\n",
            "Successfully installed IP2Location-8.8.1 SecretStorage-3.3.3 astroid-2.12.10 async-generator-1.10 autopep8-1.7.0 commonmark-0.9.1 cryptography-38.0.1 cssselect-1.1.0 dicttoxml-1.7.4 future-0.18.2 geocoder-1.38.1 geoip2-4.6.0 h11-0.13.0 ip2geotools-0.1.6 isort-5.10.1 jaraco.classes-3.2.2 jeepney-0.8.0 keyring-23.9.3 lazy-object-proxy-1.7.1 maxminddb-2.2.0 mccabe-0.7.0 outcome-1.2.0 pip-review-1.2.0 pkginfo-1.8.3 platformdirs-2.5.2 pycodestyle-2.9.1 pylint-2.15.2 pyquery-1.4.3 ratelim-0.1.6 readme-renderer-37.1 requests-2.28.1 requests-toolbelt-0.9.1 rfc3986-2.0.0 rich-12.5.1 selenium-4.4.3 sniffio-1.3.0 tomlkit-0.11.4 trio-0.21.0 trio-websocket-0.9.2 twine-4.0.1 typed-ast-1.5.4 typing-3.7.4.3 urllib3-1.26.12 wsproto-1.2.0\n"
          ]
        },
        {
          "output_type": "display_data",
          "data": {
            "application/vnd.colab-display-data+json": {
              "pip_warning": {
                "packages": [
                  "typing"
                ]
              }
            }
          },
          "metadata": {}
        },
        {
          "output_type": "stream",
          "name": "stdout",
          "text": [
            "Looking in indexes: https://pypi.org/simple, https://us-python.pkg.dev/colab-wheels/public/simple/\n",
            "Collecting faker\n",
            "  Downloading Faker-14.2.0-py3-none-any.whl (1.6 MB)\n",
            "\u001b[K     |████████████████████████████████| 1.6 MB 6.6 MB/s \n",
            "\u001b[?25hRequirement already satisfied: typing-extensions>=3.7.4.3 in /usr/local/lib/python3.7/dist-packages (from faker) (4.1.1)\n",
            "Requirement already satisfied: python-dateutil>=2.4 in /usr/local/lib/python3.7/dist-packages (from faker) (2.8.2)\n",
            "Requirement already satisfied: six>=1.5 in /usr/local/lib/python3.7/dist-packages (from python-dateutil>=2.4->faker) (1.15.0)\n",
            "Installing collected packages: faker\n",
            "Successfully installed faker-14.2.0\n"
          ]
        }
      ],
      "source": [
        "!pip install ip2geotools\n",
        "!pip install faker"
      ]
    },
    {
      "cell_type": "markdown",
      "source": [
        "b. Use `Faker` to generate a list of 50 random [IPv4](https://faker.readthedocs.io/en/master/providers/faker.providers.internet.html#) addresses. Instructions to generate these random values can be found in the documentation.\n",
        "\n",
        "**Hint**\n",
        "* Set seed to `123`, i.e. \n",
        "```\n",
        "seed = 123\n",
        "Faker.seed( seed )\n",
        "```"
      ],
      "metadata": {
        "id": "pOdGLNPGl9tK"
      }
    },
    {
      "cell_type": "code",
      "source": [
        "# INSERT CODE IN THIS CELL"
      ],
      "metadata": {
        "id": "J_M23E-ul_y4"
      },
      "execution_count": null,
      "outputs": []
    },
    {
      "cell_type": "markdown",
      "source": [
        "c. Use `ip2geotools` to get information about the IPs. Use the method `get` from `DbIpCity`. Read the [documentation](https://pypi.org/project/ip2geotools/) on how to properly use the method. \n",
        "\n",
        "* The responses should be save to a list named `responses`.\n",
        "\n",
        "**Hint**\n",
        "* Set the `api_key` to `free`.\n",
        "* Export the response from the get method to a JSON block using the method `to_json`."
      ],
      "metadata": {
        "id": "WWQRe-Wjl_63"
      }
    },
    {
      "cell_type": "code",
      "source": [
        "# INSERT CODE IN THIS CELL"
      ],
      "metadata": {
        "id": "FAwdJ_TY4tzu"
      },
      "execution_count": null,
      "outputs": []
    },
    {
      "cell_type": "markdown",
      "source": [
        "d. Data cleanup. Some the responses have empty fields for `latitude` and `longitude`. Remove the entries from the list that are missing either of these values.\n",
        "\n",
        "**Hint**\n",
        "* If the latitude and longitude are missing, then the value of either of these is set to `None`."
      ],
      "metadata": {
        "id": "4kKAkjl6cRgL"
      }
    },
    {
      "cell_type": "code",
      "source": [
        "# INSERT CODE IN THIS CELL"
      ],
      "metadata": {
        "id": "I4iEjPgGcQv-"
      },
      "execution_count": null,
      "outputs": []
    },
    {
      "cell_type": "markdown",
      "source": [
        "d. Save variables to disk. Use [pickle](https://docs.python.org/3/library/pickle.html) to serialize the variable `responses`. Save the pickle file to the course folder in your Google Drive in a file named `ips.pkl`. "
      ],
      "metadata": {
        "id": "R7qQD2sDDwLc"
      }
    },
    {
      "cell_type": "code",
      "source": [
        "# INSERT CODE IN THIS CELL"
      ],
      "metadata": {
        "id": "HInSJoZODwVC"
      },
      "execution_count": null,
      "outputs": []
    },
    {
      "cell_type": "markdown",
      "source": [
        "This section will make a plot using the data above but will fail for missing data. So make sure the data is clean. Nothing to do here.\n",
        "\n",
        "**Hint**\n",
        "* If the plot is printed, then you are good to do. Keep in mind the shape of `responses`: it is a list of strings that needs to converted to JSON."
      ],
      "metadata": {
        "id": "zluEy8OW4xED"
      }
    },
    {
      "cell_type": "code",
      "source": [
        "# DO NOT MODIFY THIS BLOCK\n",
        "!pip install basemap\n",
        "!pip install basemap-data-hires\n",
        "\n",
        "import matplotlib\n",
        "import matplotlib.pyplot as plt\n",
        "import matplotlib.cm\n",
        "import math\n",
        "from mpl_toolkits.basemap import Basemap\n",
        "from matplotlib.patches import Polygon\n",
        "from matplotlib.collections import PatchCollection\n",
        "from matplotlib.colors import Normalize\n",
        "\n",
        "fig, ax = plt.subplots(figsize=(25,25))\n",
        "m = Basemap(resolution='i', # c, l, i, h, f or None\n",
        "\tprojection='merc',\n",
        "\tlat_1=45.,lat_2=55,lat_0=50,lon_0=-107,\n",
        "\t\tllcrnrlon=-180, llcrnrlat=-70, urcrnrlon=180, urcrnrlat=80)\n",
        "m.drawmapboundary(fill_color='#45bcec')\n",
        "m.fillcontinents(color='#f2f2f2',lake_color='#46bcec')\n",
        "\n",
        "scale = 0.1\n",
        "for response in responses:\n",
        "    response = json.loads(response)\n",
        "\n",
        "    if not response['longitude'] == None:\n",
        "      lon = response['longitude']\n",
        "      lat = response['latitude']\n",
        "      markerSize = scale*response['longitude']\n",
        "      x, y = m(lon,lat)\n",
        "      plt.plot(x, y, markersize = markerSize, color = 'red', marker = 'o')\n",
        "\n",
        "plt.show()"
      ],
      "metadata": {
        "id": "swnWVBCdHlP_"
      },
      "execution_count": null,
      "outputs": []
    },
    {
      "cell_type": "markdown",
      "source": [
        "## Exercise - Random sampling\n",
        "Numpy has a very robust library for sampling from random distributions. For a detailed list of discrete and continuous distributions that can be sampled from, see the [documentation](https://numpy.org/doc/stable/reference/random/index.html).\n",
        "\n",
        "For example, sampling from an exponential distribution can be achieved with"
      ],
      "metadata": {
        "id": "zBqatJorqEwN"
      }
    },
    {
      "cell_type": "code",
      "source": [
        "# DO NOT EDIT THIS CELL\n",
        "import numpy as np\n",
        "import matplotlib.pyplot as plt\n",
        "\n",
        "np.random.seed(123)\n",
        "\n",
        "#this line is sampling from an exponential distribution\n",
        "elambda = 1\n",
        "values = np.random.exponential(scale=elambda, size=10000)\n",
        "\n",
        "num_bins = 100\n",
        "fig, ax = plt.subplots()\n",
        "n, bins, patches = ax.hist(values, num_bins, density=True)\n",
        "ax.set_xlabel('Values')\n",
        "ax.set_ylabel('Probability density')\n",
        "ax.set_title(r'Random sampling')\n",
        "fig.tight_layout()\n",
        "\n",
        "plt.show()"
      ],
      "metadata": {
        "id": "2jr7TEcIqEEZ"
      },
      "execution_count": null,
      "outputs": []
    },
    {
      "cell_type": "markdown",
      "source": [
        "a. Inverse Transform Sampling. The inverse CDF method is a widely documented method for generating random samples.\n",
        "\n",
        "In this exercise you will use this method to sample from an exponential distribution with parameter `lambda=1`.\n",
        "\n",
        "Since this is a widely documented method, part of this exercise includes finding the method and implementing it yourself.\n",
        "\n",
        "* Set `lambda=1`.\n",
        "* Generate `10000` samples.\n",
        "* Save the samples to a variable named `samples`.\n",
        "\n",
        "**Hint**\n",
        "* This is not complicated, you should be able to write this in a couple of lines.\n",
        "* Feel free to use online resources like StackOverFlow."
      ],
      "metadata": {
        "id": "eHScyeSoZv-u"
      }
    },
    {
      "cell_type": "code",
      "source": [
        "# INSERT CODE IN THIS CELL\n",
        "import numpy as np\n",
        "import matplotlib.pyplot as plt\n",
        "\n",
        "np.random.seed(123)\n",
        "\n",
        "# <--- INSERT CODE HERE -->\n",
        "# <--- INSERT CODE HERE -->\n",
        "\n",
        "num_bins=100\n",
        "fig, ax = plt.subplots()\n",
        "n, bins, patches = ax.hist(samples, num_bins, density=True)\n",
        "ax.set_xlabel('Values')\n",
        "ax.set_ylabel('Probability density')\n",
        "ax.set_title(r'Random sampling')\n",
        "fig.tight_layout()\n",
        "plt.show()"
      ],
      "metadata": {
        "id": "n7xdhu-iZcI6"
      },
      "execution_count": null,
      "outputs": []
    },
    {
      "cell_type": "markdown",
      "source": [
        "# Exercise - SIR model\n",
        "The SIR model is a simple mathematical model of epidemics. The entities in this model stand for\n",
        "\n",
        "* (S)usceptible: inviduals that are not infected with the disease yet. However, they are not immune to it either, and so they can become infected with the disease in the future.\n",
        "* (I)nfected or infectious: individuals that are infected with the disease and can transmit the disease to susceptible people.\n",
        "* (R)ecovered: individuals who have recovered from the disease and are immune, so they can no longer be infected.\n",
        "\n",
        "In the most basic form, this model model can be represented as\n",
        "\n",
        "<img src=\"https://wikimedia.org/api/rest_v1/media/math/render/svg/c2a8fd2e93bfcf1092a44cfec7ef32c1a80a26f4\" />\n",
        "\n",
        "where \n",
        "\n",
        "* β is the average number of contacts per person per time\n",
        "* γ is the probability a contagious person becoming non-contagious\n",
        "* N is the population size (constant)\n",
        "\n",
        "Consider the numerical solution below using the parameters\n",
        "\n",
        "* `beta = 0.2`\n",
        "* `gamma = 0.07`\n",
        "* `N = 100`\n",
        "* `S0 = 99`\n",
        "* `I0 = 1`\n",
        "* `R0 = 0`\n",
        "\n",
        "\n",
        "\n"
      ],
      "metadata": {
        "id": "fDxGQ4CC9uNw"
      }
    },
    {
      "cell_type": "code",
      "source": [
        "# DO NOT MODIFY THIS BLOCK\n",
        "!pip install numpy\n",
        "!pip install scipy\n",
        "\n",
        "import numpy as np\n",
        "from scipy.integrate import odeint\n",
        "\n",
        "# Model\n",
        "def model(y, t, N, beta, gamma):\n",
        "    S, I, R = y\n",
        "    dSdt = -beta * S * I / N\n",
        "    dIdt = beta * S * I / N - gamma * I\n",
        "    dRdt = gamma * I\n",
        "    return dSdt, dIdt, dRdt\n",
        "\n",
        "# Parameters\n",
        "N = 100\n",
        "beta = 0.2\n",
        "gamma = 0.07\n",
        "S_0 = 99\n",
        "I_0 = 1\n",
        "R_0 = 0\n",
        "t = np.linspace(0, 360, 360)\n",
        "\n",
        "# Initial conditions vector\n",
        "y0 = (S_0,I_0,R_0)\n",
        "\n",
        "# Solve using ODE solver\n",
        "results = odeint(model, y0, t, args=(N,beta,gamma))"
      ],
      "metadata": {
        "id": "9JGRfnzwV4em"
      },
      "execution_count": null,
      "outputs": []
    },
    {
      "cell_type": "markdown",
      "source": [
        "## Pretty plot\n",
        "Use matplotlib and seaborn to make a figure. \n",
        "\n",
        "* The figure size should `25x25`\n",
        "* The figure should have one plot with three lineplots, `t vs S`, `t vs I` and `t vs R`.\n",
        "* Set title to `SIR model`.\n",
        "* Set x-label to `Time (t)`.\n",
        "* Set y-label to `Population size`.\n",
        "* Make sure each line plot uses different colors."
      ],
      "metadata": {
        "id": "Xiw2SXsYV4xL"
      }
    },
    {
      "cell_type": "code",
      "source": [
        "# INSERT CODE IN THIS CELL"
      ],
      "metadata": {
        "id": "wbFTN6yjV731"
      },
      "execution_count": null,
      "outputs": []
    },
    {
      "cell_type": "markdown",
      "source": [
        "## Save plot to disk\n",
        "Save the plot above to the course folder in your Google Drive to a file named `sir.png`. "
      ],
      "metadata": {
        "id": "kshoCNsWV8Zz"
      }
    },
    {
      "cell_type": "code",
      "source": [
        "# INSERT CODE IN THIS CELL"
      ],
      "metadata": {
        "id": "Fb7_lnNE55UY"
      },
      "execution_count": null,
      "outputs": []
    },
    {
      "cell_type": "markdown",
      "source": [
        "# Exercise - Matrix multiplication using `numpy` (updated edition).\n",
        "\n",
        "Design an implement a method called `can_be_multiplied`. \n",
        "\n",
        "* Use only the standard libary and `numpy`.\n",
        "* This method takes two Numpy arrays and returns True if these two matrices can be multiplied. False, otherwise.\n",
        "* Work on the assumption that if the input arguments are `a` and `b` (in that order), then the operation `a*b` will be checked by this method and not `b*a`.\n",
        "* If the input argument is not a Numpy array, then the method should return `None`.\n",
        "* **NEW**. If any of the arrays is a Numpy array, then check that the `dtype` of these arrays is numeric.\n",
        "* **NEW**. If any of the arrays is empty, then issue a warning message letting the user know which of the arrays is empty.\n",
        "* Write docstrings for this method.\n",
        "* Write at least 6 assertions to test your method.\n",
        "\n",
        "**Hint**\n",
        "* Test for empty matrices. If any of the matrices are empty, then this method should return `False`."
      ],
      "metadata": {
        "id": "y4Q5bs-4ujiw"
      }
    },
    {
      "cell_type": "code",
      "source": [
        "# INSERT CODE IN THIS CELL"
      ],
      "metadata": {
        "id": "aGKEp07vujpy"
      },
      "execution_count": null,
      "outputs": []
    }
  ]
}